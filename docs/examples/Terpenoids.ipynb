{
 "cells": [
  {
   "cell_type": "code",
   "id": "initial_id",
   "metadata": {
    "collapsed": true,
    "ExecuteTime": {
     "end_time": "2025-02-28T07:56:36.272917Z",
     "start_time": "2025-02-28T07:56:36.270757Z"
    }
   },
   "source": [
    "\n",
    "from aurelian.agents.chemistry_agent import get_chebi_adapter, ChemicalStructure\n",
    "\n",
    "CLASSES = {\n",
    "    \"monoterpenoid\": 10,\n",
    "    \"sesquiterpenoid\": 15,\n",
    "    \"diterpenoid\": 20,\n",
    "    \"sesterterpenoid\": 25,\n",
    "    \"triterpenoid\": 30,\n",
    "    \"other\": None,\n",
    "}"
   ],
   "outputs": [],
   "execution_count": 36
  },
  {
   "metadata": {
    "ExecuteTime": {
     "end_time": "2025-02-28T07:56:37.137940Z",
     "start_time": "2025-02-28T07:56:37.136014Z"
    }
   },
   "cell_type": "code",
   "source": [
    "chebi = get_chebi_adapter()\n",
    "session = chebi.session"
   ],
   "id": "3761d77e17093ea",
   "outputs": [],
   "execution_count": 37
  },
  {
   "metadata": {
    "ExecuteTime": {
     "end_time": "2025-02-28T07:56:37.883823Z",
     "start_time": "2025-02-28T07:56:37.881617Z"
    }
   },
   "cell_type": "code",
   "source": [
    "def get_formula(curie: str):\n",
    "    return chebi.entity_metadata_map(curie).get(\"obo:chebi/formula\", None)"
   ],
   "id": "ccc7ac3e2c3bc06d",
   "outputs": [],
   "execution_count": 38
  },
  {
   "metadata": {
    "ExecuteTime": {
     "end_time": "2025-02-28T07:56:43.348803Z",
     "start_time": "2025-02-28T07:56:38.586081Z"
    }
   },
   "cell_type": "code",
   "source": [
    "from semsql.sqla.semsql import Statements\n",
    "from oaklib.datamodels.vocabulary import IS_A\n",
    "\n",
    "suspects = []\n",
    "for c, expected_carbons in CLASSES.items():\n",
    "    if not expected_carbons:\n",
    "        continue\n",
    "    print(f\"Searching for {c}\")\n",
    "    curies = chebi.curies_by_label(c)\n",
    "    curie = curies[0] if curies else None\n",
    "    structures = list(chebi.descendants(curie, [IS_A]))\n",
    "    q = session.query(Statements.subject, Statements.value).filter(Statements.subject.in_(structures))\n",
    "    q = q.filter(Statements.predicate == \"obo:chebi/formula\")\n",
    "    for s, formula in q:\n",
    "        # split into atoms; e.g. C10H16 => {\"C\": 10, \"H\": 16}\n",
    "        import re\n",
    "        atom_counts = dict(re.findall(r'([A-Z][a-z]*)(\\d*)', formula))\n",
    "        ac = atom_counts.get(\"C\", 0)\n",
    "        cc = int(ac) if ac else 1\n",
    "        if cc >= expected_carbons * 2 or cc * 2 <= expected_carbons:\n",
    "            #print(s, formula)\n",
    "            suspects.append((c, s, cc, formula))"
   ],
   "id": "a70f35c819b4315a",
   "outputs": [
    {
     "name": "stdout",
     "output_type": "stream",
     "text": [
      "Searching for monoterpenoid\n",
      "Searching for sesquiterpenoid\n",
      "Searching for diterpenoid\n",
      "Searching for sesterterpenoid\n",
      "Searching for triterpenoid\n"
     ]
    }
   ],
   "execution_count": 39
  },
  {
   "metadata": {
    "ExecuteTime": {
     "end_time": "2025-02-28T07:56:52.542233Z",
     "start_time": "2025-02-28T07:56:52.539944Z"
    }
   },
   "cell_type": "code",
   "source": "len(suspects)",
   "id": "ff6c484a855b51d2",
   "outputs": [
    {
     "data": {
      "text/plain": [
       "775"
      ]
     },
     "execution_count": 41,
     "metadata": {},
     "output_type": "execute_result"
    }
   ],
   "execution_count": 41
  },
  {
   "metadata": {
    "ExecuteTime": {
     "end_time": "2025-02-28T07:57:24.520740Z",
     "start_time": "2025-02-28T07:57:24.518402Z"
    }
   },
   "cell_type": "code",
   "source": "len([s for s in suspects if s[0] == \"triterpenoid\"])",
   "id": "d7d611fc5761f4bc",
   "outputs": [
    {
     "data": {
      "text/plain": [
       "51"
      ]
     },
     "execution_count": 43,
     "metadata": {},
     "output_type": "execute_result"
    }
   ],
   "execution_count": 43
  },
  {
   "metadata": {
    "ExecuteTime": {
     "end_time": "2025-02-28T07:58:11.415861Z",
     "start_time": "2025-02-28T07:58:11.414369Z"
    }
   },
   "cell_type": "code",
   "source": "suspects.reverse()",
   "id": "9889ea5a8d335add",
   "outputs": [],
   "execution_count": 44
  },
  {
   "metadata": {
    "ExecuteTime": {
     "end_time": "2025-02-28T07:58:14.797417Z",
     "start_time": "2025-02-28T07:58:14.793833Z"
    }
   },
   "cell_type": "code",
   "source": [
    "from pydantic import BaseModel\n",
    "from pydantic_ai import Agent\n",
    "\n",
    "class Classification(BaseModel):\n",
    "    chemical_class: str\n",
    "    explanation: str\n",
    "    confidence: str\n",
    "\n",
    "agent = Agent(\n",
    "    model='openai:gpt-4o',\n",
    "      system_prompt=f\"\"\"You are an expert chemist, able to interpret\n",
    "      chemical structure diagrams and classify them.\n",
    "      Look at the provided structure and classify it in one of the following categories:\n",
    "      {\", \".join(CLASSES.keys())}.\n",
    "      When providing the explanation, show your full reasoning, explaining any anomalies in the structure.\n",
    "      Actually look at the structure, and describe it, rather than just counting carbons.\n",
    "      I want a detailed description of what you see.\n",
    "      If you don't know, say so. Give a confidence level for all classifications, LOW, MEDIUM, or HIGH.\n",
    "      \"\"\",\n",
    "    result_type=Classification)"
   ],
   "id": "e49b5cd328d6c9dd",
   "outputs": [],
   "execution_count": 45
  },
  {
   "metadata": {
    "ExecuteTime": {
     "end_time": "2025-02-28T08:05:41.994367Z",
     "start_time": "2025-02-28T07:58:16.745073Z"
    }
   },
   "cell_type": "code",
   "source": [
    "from pydantic_ai import ImageUrl\n",
    "import nest_asyncio\n",
    "\n",
    "nest_asyncio.apply()\n",
    "\n",
    "results = []\n",
    "for c, s, cc, formula in suspects:\n",
    "    \n",
    "    structure = ChemicalStructure.from_id(s)\n",
    "    structure.name = chebi.label(s)\n",
    "    img_url = ImageUrl(url=structure.chebi_image_url)\n",
    "    q = (\n",
    "        f\"This structure is classified in CHEBI as a {c}, yet it has {cc} carbons.\"\n",
    "        f\" Its formula is {formula}.\"\n",
    "        f\" And its name is {structure.name}.\"\n",
    "        f\" Give the correct classification.\"\n",
    "    )\n",
    "    q = f\"\"\"What is the correct classification for this structure?\n",
    "    I suspect it is a terpenoid, in one of the following categories:\n",
    "    {\", \".join(CLASSES.keys())}.\n",
    "    \"\"\"\n",
    "    result = agent.run_sync([q, img_url])\n",
    "    agrees = result.data.chemical_class.lower() == c.lower()\n",
    "    print(agrees, c, s, cc, formula)\n",
    "    print(result.data)\n",
    "    results.append((agrees, c, s, q, result))"
   ],
   "id": "3e04dfc9e7e5d0b4",
   "outputs": [
    {
     "name": "stdout",
     "output_type": "stream",
     "text": [
      "True triterpenoid CHEBI:9771 63 C63H98O29\n",
      "chemical_class='triterpenoid' explanation='The chemical structure in the image shows a large carbon skeleton with six isoprene units (30 carbon atoms organized into rings). The structure includes a multi-ring system typical for a triterpene, specifically resembling a cucurbitane skeleton in its core, characteristic of triterpenes. Additionally, there are multiple glycosidic linkages (the sugar moieties attached) which are common modifications on triterpenoid aglycones, often seen in triterpenoid saponins. These features match the classification of a triterpenoid.' confidence='HIGH'\n",
      "True triterpenoid CHEBI:9110 70 C70H104O32\n",
      "chemical_class='triterpenoid' explanation='The structure displayed consists of 30 carbon atoms forming a series of interconnected rings. This configuration is characteristic of triterpenoids, which are comprised of six isoprene units. The additional functional groups and ring configurations are common in complex triterpenoids, which can include various functional modifications. Monoterpenoids, sesquiterpenoids, diterpenoids, and sesterterpenoids consist of fewer carbon atoms (10, 15, 20, and 25 respectively), making this structure consistent with that of a triterpenoid.' confidence='HIGH'\n",
      "True triterpenoid CHEBI:74453 74 C74H110O35\n",
      "chemical_class='triterpenoid' explanation='The structure displayed contains a series of six isoprene units (C5H8) arranged into a polycyclic framework, characteristic of a triterpenoid. The core structure consists of three interconnected cyclohexane rings and a cyclopentane ring, common in many triterpenoids. Additionally, the structure includes multiple hydroxyl (OH) groups and glycosidic linkages attached to the triterpene skeleton, further indicating a complex triterpenoid configuration, possibly a glycoside.' confidence='HIGH'\n",
      "True triterpenoid CHEBI:74448 69 C69H102O31\n",
      "chemical_class='triterpenoid' explanation='This chemical structure can be classified as a triterpenoid based on its features. The backbone consists of six isoprene units, forming a complex carbon structure typical of triterpenoids. The structure includes multiple rings, hydroxyl groups, and some double bonds, which is characteristic of triterpenoids. Triterpenoids are typically composed of 30 carbon atoms, derived from the combination of six isoprene units, forming complex ring systems and often carrying diverse substituents and functional groups as seen here. The presence of these features strongly supports its classification as a triterpenoid.' confidence='HIGH'\n",
      "True triterpenoid CHEBI:69373 64 C64H104O30\n",
      "chemical_class='triterpenoid' explanation=\"The structure provided is quite complex, featuring multiple hexagonal rings typically associated with steroid frameworks. The core is a large structure with multiple isoprene units bonded together, forming a long carbon chain. The structure displays hydroxyl groups (-OH) indicative of triterpenoids, which typically have 30 carbon atoms arranged in a four-ring structure that can be further derivatized with hydroxyl groups, sugars, etc. With the dense carbon framework and the attached functional groups like -OH, it's consistent with triterpenoid structures like saponins or glycosides.\" confidence='HIGH'\n",
      "True triterpenoid CHEBI:69372 65 C65H106O31\n",
      "chemical_class='triterpenoid' explanation='The chemical structure displayed consists of a backbone of 30 carbon atoms, organized into a structure typical of triterpenoids. This includes multiple interconnected rings that are characteristic of this class of compounds. The presence of several hydroxyl groups (OH) attached to the rings indicates functional modifications often found in triterpenoids. The visual complexity, large size, and specific ring structures are consistent with structures derived from six isoprene units, aligning with the triterpenoid classification.' confidence='HIGH'\n",
      "True triterpenoid CHEBI:66653 69 C69H112O36\n",
      "chemical_class='triterpenoid' explanation='The structure consists of a long carbon chain with multiple rings typical of triterpenoids. It appears to have six isoprene units (total of 30 carbon atoms distributed in a complex structure), indicating it is a triterpenoid. The presence of multiple hydroxyl groups (OH) and glycosidic linkages is also a common feature of many triterpenoid glycosides, enhancing the complexity of the structure.' confidence='HIGH'\n",
      "True triterpenoid CHEBI:66652 69 C69H112O34\n",
      "chemical_class='triterpenoid' explanation='The structure depicted contains six isoprene units, which is characteristic of a triterpenoid. It consists of thirty carbon atoms arranged in a complex cyclic formation, a hallmark of the triterpenoid class. The multiple rings and the extensive branching and hydroxyl groups further indicate its complexity, aligning with known structures of triterpenoids.' confidence='HIGH'\n",
      "True triterpenoid CHEBI:66469 75 C75H112O35\n",
      "chemical_class='triterpenoid' explanation='The chemical structure consists of six isoprene units, which is characteristic of a triterpenoid. Triterpenoids generally have 30 carbon atoms arranged in this way. The structure also features a complex multi-ring system typical of steroids or other terpene-derived compounds, which aligns with the triterpenoid classification. Additional functional groups and side chains are present, indicating a potentially complex modification of the typical triterpene skeleton.' confidence='HIGH'\n",
      "True triterpenoid CHEBI:66467 69 C69H102O31\n",
      "chemical_class='triterpenoid' explanation='The structure shown has a characteristic arrangement of three six-membered rings and one five-membered ring, which is typical of a triterpenoid structure derived from squalene. Additionally, the complexity and size of the structure align with the typical size of triterpenoids, which are composed of 30 carbon atoms. The molecular structure further includes various functional groups such as hydroxyl (OH) groups, which are common in oxygenated derivatives of triterpenoids, often seen in steroidal structures. The presence of additional glycosidic attachments indicates possible steroidal saponins, a subclass of triterpenoids.' confidence='HIGH'\n",
      "True triterpenoid CHEBI:66466 69 C69H102O31\n",
      "chemical_class='triterpenoid' explanation='The structure in the image is a complex molecule containing multiple six-membered rings with hydroxyl groups and methyl groups attached. It appears to be a large compound with a backbone characteristic of a triterpenoid, based on the presence of 30 carbon atoms arranged in a cyclized structure typical for triterpenes. The presence of multiple rings and specific substituents aligns well with triterpenoid structures, which are known to be diverse and complex.' confidence='HIGH'\n",
      "True triterpenoid CHEBI:66465 74 C74H110O35\n",
      "chemical_class='triterpenoid' explanation='The structure consists of a large carbon skeleton that can be broken down into six isoprene units (each with five carbon atoms). This is indicative of a triterpenoid, as triterpenoids are composed of thirty carbon atoms. Additionally, the presence of multiple rings and oxygen functionalities is characteristic of triterpenoids. The attached sugar moieties are typical in glycosylated triterpenoids.' confidence='HIGH'\n",
      "True triterpenoid CHEBI:66464 74 C74H110O35\n",
      "chemical_class='triterpenoid' explanation='The structure shows a complex polycyclic framework characteristic of triterpenoids, which typically consist of six isoprene units (30 carbons). This molecule includes a fused ring system, common in triterpenoids, and additional sugar units do not alter this basic classification. The presence of multiple rings and a 30-carbon core aligns with the structure of known triterpenoids.' confidence='HIGH'\n",
      "True triterpenoid CHEBI:66173 62 C62H102N2O27\n",
      "chemical_class='triterpenoid' explanation='The structure shown is a complex molecule with multiple ring systems, indicative of a highly functionalized organic compound. There are six-membered rings visible, which are characteristic of steroidal frameworks. It appears to have multiple sugar moieties attached, suggesting glycosylation, but the core structure shows a typical tetracyclic triterpenoid pattern with a total carbon count consistent with triterpenoids (C30). The presence of hydroxyl and other functional groups suggests modifications typical in natural triterpenoids.' confidence='HIGH'\n",
      "True triterpenoid CHEBI:65993 71 C71H112O36\n",
      "chemical_class='triterpenoid' explanation='The structure is based on a 30-carbon backbone typical of triterpenoids. It has a pentacyclic structure with multiple hydroxyl groups and sugar moieties attached, which is common in terpenoid glycosides. The core structure exhibits rings and functional groups characteristic of triterpenoids.' confidence='HIGH'\n",
      "True triterpenoid CHEBI:65992 74 C74H116O40\n",
      "chemical_class='triterpenoid' explanation='The structure consists of a basic C30 backbone typical of triterpenoids. The central part of the molecule displays five fused six-membered rings, which is a characteristic pattern found in many triterpenoids such as steroids. Additionally, the presence of multiple hydroxyl groups and sugar moieties further indicates that it is a complex triterpenoid glycoside, common in saponins. These structural features are consistent with known triterpenoid compounds.' confidence='HIGH'\n",
      "False triterpenoid CHEBI:65988 113 C113H178O50\n",
      "chemical_class='other' explanation=\"The structure appears to be a complex molecule with multiple sugar residues and possibly various functional groups, indicating it's not a simple terpenoid chain or ring structure. Terpenoids typically consist of isoprene units forming specific structures, like monoterpenes (10 carbons), sesquiterpenes (15 carbons), diterpenes (20 carbons), sesterterpenes (25 carbons), and triterpenes (30 carbons). This structure seems more complex and doesn't fit neatly into these categories, suggesting it might be a glycoside or a complex natural product other than a straightforward terpenoid.\" confidence='HIGH'\n",
      "True triterpenoid CHEBI:65987 102 C102H162O48\n",
      "chemical_class='triterpenoid' explanation='The structure shown is a large complex of interconnected rings. Terpenoids are classified based on the number of isoprene units, each containing 5 carbons. In this structure, I observe six isoprene units (30 carbons), indicating a triterpenoid structure. The rings and branching patterns are consistent with typical triterpenoids, characterized by multiple fused rings. Additionally, the complexity and carbon count align with known triterpenoids.' confidence='HIGH'\n",
      "True triterpenoid CHEBI:65986 102 C102H162O48\n",
      "chemical_class='triterpenoid' explanation='The structure is a complex organic molecule composed of several six-membered rings and multiple branches. There is a network of 30 carbon atoms that form a backbone typical of triterpenoids, which are derived from a C30 precursor. The presence of multiple hydroxyl groups and possibly other functional groups further indicates it is a triterpenoid. The overall structural complexity with multiple rings and side chains aligns with what is typically observed in triterpenoids.' confidence='HIGH'\n",
      "True triterpenoid CHEBI:65759 60 C60H96O31\n",
      "chemical_class='triterpenoid' explanation='The chemical structure here contains six isoprene units, which is characteristic of a triterpenoid. The fundamental backbone of the structure follows the typical tetracyclic triterpene framework, often found in steroids or triterpenoid compounds. Moreover, this structure has additional sugar moieties attached, which are common in glycosylated triterpenoids. Each cyclic unit is saturated, showing a triterpenoid nucleus, coupled with multiple glycosidic bonds, giving it a complex appearance. The presence of 30 carbons specifically in the main carbon skeleton confirms its classification as a triterpenoid.' confidence='HIGH'\n",
      "True triterpenoid CHEBI:65758 60 C60H94O29\n",
      "chemical_class='triterpenoid' explanation=\"The structure consists of a set of four cyclohexane rings A, B, C, D and a cyclopentane ring E fused together, characteristic of a steroid backbone. This forms a perhydrocyclopentanophenanthrene base. The extended set of rings in conjunction with several oxygen-containing substituent groups and glycosidic linkages attached to this backbone is a signature of a saponin, which is typically derived from triterpenes. With 30 carbon atoms in the backbone, it fits the classification of a triterpenoid. The presence of additional sugar moieties linked to the structure is a common feature but doesn't alter the terpenoid classification.\" confidence='HIGH'\n",
      "True triterpenoid CHEBI:65757 66 C66H104O34\n",
      "chemical_class='triterpenoid' explanation='The structure features a cyclic backbone with 30 carbon atoms forming a large fused ring system. This is characteristic of triterpenoids, which are composed of six isoprene units (each contributing five carbons). The presence of additional functional groups, such as carbonyl (C=O) and hydroxyl (OH) groups, is common in many triterpenoids and contributes to their biological activity. The large structure and the nature of the carbon framework confirm the classification as a triterpenoid.' confidence='HIGH'\n",
      "True triterpenoid CHEBI:65756 60 C60H94O30\n",
      "chemical_class='triterpenoid' explanation='The structure depicted is a large molecule with a characteristic steroid nucleus made up of three hexane rings and one pentane ring, which is the typical backbone of a triterpenoid. These compounds are typically made up of six isoprene units, totaling 30 carbon atoms. The additional substituents and modifications such as glycosides do not alter the fundamental classification, as they are common in triterpenoid derivatives. The core structure is clearly that of a steroidal triterpenoid.' confidence='HIGH'\n",
      "True triterpenoid CHEBI:65755 60 C60H94O30\n",
      "chemical_class='triterpenoid' explanation='The structure features a classic pentacyclic triterpenoid framework with a total of thirty carbon atoms forming multiple six-membered rings and one five-membered ring. This arrangement is characteristic of the triterpenoid class. Furthermore, there are multiple glycosidic linkages attached to the core triterpenoid structure, indicative of complex triterpenoid glycosides often found in nature.' confidence='HIGH'\n",
      "True triterpenoid CHEBI:65426 64 C64H106O31\n",
      "chemical_class='triterpenoid' explanation='The structure features a steroid-like backbone which is characteristic of triterpenoids, consisting of six isoprene units, corresponding to 30 carbon atoms forming the main structure. Additionally, there are multiple sugar moieties attached to the core, indicating that this is a glycosylated triterpenoid known as a saponin. The steroid-like core includes three six-membered rings and one five-membered ring, typical of many triterpenoids.' confidence='HIGH'\n",
      "True triterpenoid CHEBI:65425 70 C70H116O36\n",
      "chemical_class='triterpenoid' explanation='The structure depicts a complex molecule with a steroid-like core, which is characteristic of triterpenoids. Triterpenoids are C30 compounds derived from the isoprene rule. In this image, you can see the steroidal core - four fused rings, commonly found in triterpenoids like saponins, sterols, or steroids. The presence of sugar moieties attached to the core further supports the classification as a saponin, which is a subclass of triterpenoids. The complex structure, including multiple hydroxyl groups, aligns with triterpenoid structures.' confidence='HIGH'\n",
      "True triterpenoid CHEBI:52551 68 C68H110O32\n",
      "chemical_class='triterpenoid' explanation=\"The structure exhibits a core of six isoprene units, which is a characteristic feature of triterpenoids. Triterpenoids are derivatives of squalene, typically with 30 carbon atoms forming a C30 structure. The presence of multiple hydroxyl and sugar group attachments suggests it's a complex triterpenoid structure often seen in saponins. The intricate pattern of ring formation and substituents is consistent with triterpenoids rather than other terpenoid classes.\" confidence='HIGH'\n",
      "True triterpenoid CHEBI:229202 63 C63H98O30\n",
      "chemical_class='triterpenoid' explanation='The structure depicted is quite complex, featuring multiple six-membered rings fused together, typical for steroids and related compounds. It includes a large number of carbon atoms arranged in a manner typical of triterpenoids, which are derived from the fusion of six isoprene units (C30). The presence of numerous oxygen atoms suggests that it could be a glycosylated derivative, which is common in natural products of this class like saponins or glycosides. The core structure and the complex substitution pattern, likely including multiple sugar moieties, supports the classification as a triterpenoid.' confidence='HIGH'\n",
      "False triterpenoid CHEBI:223501 65 C65H86O20\n",
      "chemical_class='other' explanation='The structure depicted is an ellagitannin, a polyphenolic compound, which is not a terpenoid. Terpenoids are typically composed of isoprene units (C5) and categorized based on the number of these units: monoterpenoids (C10), sesquiterpenoids (C15), diterpenoids (C20), sesterterpenoids (C25), triterpenoids (C30), etc. The structure shown is a polymeric polyphenol, characterized by multiple aromatic rings and is distinct from the isoprene-based structures of terpenoids.' confidence='HIGH'\n",
      "False triterpenoid CHEBI:223289 77 C77H106O30\n",
      "chemical_class='other' explanation='The structure is not a typical terpenoid structure. It appears to be a cyclic oligomer, specifically a cyclodextrin, consisting of multiple glucopyranose units. Terpenoids typically consist of isoprene units and are categorized based on the number of these units, such as monoterpenoids (2 units), sesquiterpenoids (3 units), diterpenoids (4 units), etc. This structure is carbohydrate-based, not formed from isoprene units, hence it falls outside the terpenoid classification.' confidence='HIGH'\n",
      "False triterpenoid CHEBI:222543 77 C77H98O30\n",
      "chemical_class='other' explanation='The structure depicted is not a traditional linear or cyclic carbon backbone characteristic of terpenoids. Instead, it seems to be a larger, complex molecule likely composed of multiple repeated units. Terpenoids are typically classified based on their isoprene units (C5H8)n. Monoterpenoids contain two isoprene units, sesquiterpenoids have three, diterpenoids have four, sesterterpenoids have five, and triterpenoids have six. The presence of numerous oxygens and more complex ring structures suggests that this molecule likely does not fall into these traditional terpenoid categories. This appears to be a macrocyclic structure, possibly a polysaccharide or a cyclic oligosaccharide, as it has a regular repeating pattern and seems to include sugar-like rings. The extensive use of oxygen indicates glycosidic linkages or possibly ester groups, which are not characteristic of simple terpenes. Therefore, it is classified as \"other.\"' confidence='HIGH'\n",
      "True triterpenoid CHEBI:221737 61 C61H94O18\n",
      "chemical_class='triterpenoid' explanation='The structure features extensive cyclic systems and a large carbon backbone that appears to contain six isoprene units, characteristic of triterpenoids. The complex ring structure and numerous oxygen-containing functional groups present are typical motifs found in triterpenoids derived from squalene precursor structures, which contain 30 carbon atoms in total. The arrangement and size align with a triterpenoid classification.' confidence='HIGH'\n",
      "True triterpenoid CHEBI:221384 61 C61H88O17\n",
      "chemical_class='triterpenoid' explanation='The structure shown has a long carbon chain characteristic of terpenoids. This compound specifically exhibits six isoprene units (each isoprene unit having five carbon atoms) as evidenced by the presence of 30 carbon atoms structured in a polycyclic arrangement. Such a framework fits the definition of a triterpenoid, which consists of six isoprene units. Furthermore, the multi-ring system with attached oxygen-containing functional groups suggests modifications typical of many triterpenoids.' confidence='HIGH'\n",
      "False triterpenoid CHEBI:221237 77 C77H104O30\n",
      "chemical_class='other' explanation='The structure shown is a large, cyclic molecule with repeating glucose units. It appears to be a cyclic oligosaccharide known as a cyclodextrin. Terpenoids are usually not structured as large cyclic glucans but rather as chains with varying numbers of isoprene units. Therefore, the structure does not fit into the typical terpenoid categories of monoterpenoids, sesquiterpenoids, diterpenoids, sesterterpenoids, or triterpenoids. Instead, it is classified as a cyclodextrin, which falls under carbohydrates, not terpenoids.' confidence='HIGH'\n",
      "False triterpenoid CHEBI:218295 61 C61H94O17\n",
      "chemical_class='Other' explanation='The structure depicted shows a complex arrangement with multiple rings, oxygen-containing functional groups, and several carbohydrate-like moieties. This does not resemble the typical structures of standard terpenoids, such as the cyclic hydrocarbons found in monoterpenoids, sesquiterpenoids, diterpenoids, sesterterpenoids, or triterpenoids. Instead, the presence of multiple sugar rings suggests it may belong to a class like glycosides or a complex natural product with multiple functional components. Such a structure does not align with the typical isoprene unit-based classification of terpenes.' confidence='HIGH'\n",
      "False triterpenoid CHEBI:204918 65 C65H82O20\n",
      "chemical_class='other' explanation=\"The structure in the image is not of a typical linear or cyclic terpene, but instead appears to be a large macrocyclic compound with multiple repeating units. The compound contains numerous hydroxyl (OH) and carbonyl (C=O) functional groups, and it is highly oxidized with many oxygen atoms. Such structures are commonly found in polyketides or macrolides rather than in terpene categories like monoterpenoids, sesquiterpenoids, diterpenoids, sesterterpenoids, or triterpenoids. Therefore, its classification would be better suited to 'other.'\" confidence='HIGH'\n",
      "False triterpenoid CHEBI:197805 65 C65H84O20\n",
      "chemical_class='other' explanation='The structure depicted is a large macrocyclic molecule with multiple sugar-like rings and an extensive cyclic backbone. It does not fit the typical linear or cyclic carbon skeleton pattern seen in terpenoids (such as monoterpenoids, sesquiterpenoids, diterpenoids, sesterterpenoids, or triterpenoids), which are typically made from isoprene units (C5H8). This molecule appears to be more structurally complex and contains many oxygens in the form of hydroxyl groups and carbonyls, indicative of sugars or polysaccharide components rather than a terpenoid structure. The symmetrical and repeating units suggest a macrocyclic oligosaccharide, possibly a cyclodextrin or similar compound, which is outside the classification of terpenoids.' confidence='HIGH'\n",
      "True triterpenoid CHEBI:194571 60 C60H88O10\n",
      "chemical_class='triterpenoid' explanation='The structure presented is quite complex with several repeating isoprene units. Upon analyzing the structure, there are 30 carbon atoms available, arranged into multiple rings and chains. This is characteristic of a triterpenoid, which is composed of six isoprene units. The complex ring structure and the number of carbons indicate this categorization as a triterpenoid, distinguishing it from smaller terpenoid classes such as monoterpenoids, sesquiterpenoids, or diterpenoids.' confidence='HIGH'\n",
      "False triterpenoid CHEBI:188312 1 C46H64O6.CH4\n",
      "chemical_class='other' explanation=\"The structure in the image depicts ubiquinone, also known as coenzyme Q, which is not a conventional terpene. It consists of a long isoprenoid (polyisoprenyl) tail attached to a quinone moiety. While the tail is composed of several isoprene units, these structures are usually discussed in the context of biological quinones rather than the terpene classification system. Therefore, it fits into the category of 'other,' as it is not exclusively any of the standard terpenoid classifications listed (monoterpenoid, sesquiterpenoid, etc.).\" confidence='HIGH'\n",
      "True triterpenoid CHEBI:186598 82 C82H154O6\n",
      "chemical_class='triterpenoid' explanation='This structure consists of 30 carbon atoms and appears to be highly cyclic, typical of triterpenoids. The presence of several interconnected cyclohexane rings or similar structures also supports this classification. Triterpenoids are characterized by their large, complex ring structures, which this structure exhibits. Additionally, the distinct arrangement and number of rings suggest a complex and large terpenoid type, fitting into the triterpenoid category.' confidence='HIGH'\n",
      "True triterpenoid CHEBI:185292 64 C64H116O2\n",
      "chemical_class='triterpenoid' explanation='The structure depicted is a cholesterol molecule, which is a common triterpenoid. Triterpenoids are based on a 30-carbon backbone derived from six isoprene units. Observing the backbone of the structure, the typical four-ring steroid core, including three cyclohexane rings and one cyclopentane ring, is present, along with the aliphatic side chain. This satisfies the requirement of a triterpenoid structure.' confidence='HIGH'\n",
      "True triterpenoid CHEBI:183959 63 C63H98O29\n",
      "chemical_class='triterpenoid' explanation='The displayed structure consists of multiple fused six-membered rings forming a steroid-like backbone. This is indicative of a triterpenoid structure, which is built upon a C30 precursor commonly forming complex structures with multiple ring fusions. Additionally, the various oxygen atoms (likely as hydroxyl groups or ethers) and glycosidic linkages are modifications often seen in triterpenoid glycosides.' confidence='HIGH'\n",
      "True triterpenoid CHEBI:145175 70 C70H110O35\n",
      "chemical_class='triterpenoid' explanation='The structure consists of a 30-carbon skeleton which is indicative of a triterpenoid. It is built from six isoprene units. The core consists of four six-membered rings, a typical feature of triterpenoids such as steroids. This classification is made clear by the presence of these typical features. Additionally, there are multiple sugar moieties attached, showing it may be a glycosylated form, common in natural triterpenoids.' confidence='HIGH'\n",
      "True triterpenoid CHEBI:145174 64 C64H100O31\n",
      "chemical_class='triterpenoid' explanation='The structure is based on a core framework that resembles lanosterol or similar triterpenoid backbones, commonly containing 30 carbon atoms. There is a characteristic four-ring fused structure, indicating a sterol-type framework often found in triterpenoids. Additionally, the presence of multiple sugar moieties attached suggests a glycoside form, which is typical for certain triterpenoids. The structure does not fit into smaller terpenoids like monoterpenoids, sesquiterpenoids, or diterpenoids due to the size and complexity of the core.' confidence='HIGH'\n",
      "True triterpenoid CHEBI:145169 65 C65H102O31\n",
      "chemical_class='triterpenoid' explanation='The structure shown has a steroid-like backbone consisting of four connected rings typical for triterpenoids, with additional sugar moieties attached, which is common in glycosides of steroidal triterpenes. Triterpenoids have a carbon skeleton of C30, and this structure is consistent with that classification. The presence of the characteristic rings, along with the carbon count and arrangement, support this classification.' confidence='HIGH'\n",
      "True triterpenoid CHEBI:145168 70 C70H110O35\n",
      "chemical_class='triterpenoid' explanation='The structure shown contains a six-membered polycyclic core, which suggests a triterpene skeleton. Triterpenes typically have a structure based on a 30-carbon skeleton, often derived from the cyclization of squalene. This molecule also includes multiple hydroxyl and glycosidic linkages that are common in complex triterpenoid glycosides. Since it follows with the basic structure of a triterpene, this is a triterpenoid.' confidence='HIGH'\n",
      "True triterpenoid CHEBI:145159 70 C70H110O36\n",
      "chemical_class='triterpenoid' explanation='This structure appears to be based on a pentacyclic triterpene backbone, which is common in triterpenoids. The structure contains three six-membered rings and two five-membered rings fused together, forming the core characteristic of triterpenes. This core is followed by a series of sugars making it a glycoside of a triterpene, often referred to as a saponin. The presence of 30 carbon atoms in the triterpene framework further confirms this classification. The additional sugar moiety and functional groups are typical for complex naturally occurring triterpenoids.' confidence='HIGH'\n",
      "True triterpenoid CHEBI:145154 65 C65H102O32\n",
      "chemical_class='triterpenoid' explanation='The structure in the image consists of a core made up of six isoprene units that form a steroid-like structure, which is characteristic of the triterpenoid class. Triterpenoids are composed of thirty carbon atoms arranged into six isoprene units. In the structure, a three-ring system, similar to steroids, is present, along with various functional groups such as hydroxyls and glycosidic linkages. These features are indicative of triterpenoid saponins, often found in complex plant-derived substances.' confidence='HIGH'\n",
      "True triterpenoid CHEBI:145146 70 C70H110O36\n",
      "chemical_class='triterpenoid' explanation='The structure consists of a characteristic four-ring core common to steroids and triterpenes, which is derived from the cyclization of squalene. This includes three six-membered rings and one five-membered ring. The structure also features multiple sugar moieties attached to the main triterpene core, typical of glycosylated triterpenoids. The presence of these distinct features supports its classification as a triterpenoid.' confidence='HIGH'\n",
      "True triterpenoid CHEBI:145145 69 C69H110O36\n",
      "chemical_class='triterpenoid' explanation='The structure shown has a core consisting of a series of six-membered carbon rings, typical of the lupane, oleanane, or ursane triterpene skeletons. Triterpenes are composed of six isoprene units, leading to a total of 30 carbon atoms in the core part. This structure also features multiple hydroxyl and carbonyl groups, which are common in many natural triterpenoids. The rings and attached groups are complex and indicate a high level of functionalization typical of these compounds.' confidence='HIGH'\n",
      "True triterpenoid CHEBI:145144 75 C75H118O40\n",
      "chemical_class='triterpenoid' explanation='The structure is composed of 30 carbon atoms forming six isoprene units, characteristic of a triterpenoid. The core structure includes three six-membered rings and a five-membered ring, typical of steroidal triterpenoids. Additionally, there are various sugar moieties attached, which are not part of the core terpenoid structure but are common in glycosylated triterpenoids.' confidence='HIGH'\n",
      "False sesterterpenoid CHEBI:227322 61 C61H90N2O23\n",
      "chemical_class='other' explanation='The structure exhibits complex steroid-like features, intricate ring systems, and it deviates significantly from the typical carbon arrangements and functionalities seen in terpenoids. Terpenoids are typically constructed from isoprene units with a base formula of (C5H8)n. This complex structure features diverse functional groups and ring systems that do not align with traditional terpenoid categories such as monoterpenoids, sesquiterpenoids, diterpenoids, sesterterpenoids, or triterpenoids. It appears more aligned with a polyketide structure or another complex biosynthetic class rather than a simple terpenoid.' confidence='HIGH'\n",
      "False sesterterpenoid CHEBI:227316 61 C61H90N2O22\n",
      "chemical_class='other' explanation='The given structure is a complex organic molecule that does not correspond to any of the classical categories of terpenoids (monoterpenoid, sesquiterpenoid, diterpenoid, sesterterpenoid, or triterpenoid). Terpenoids are generally characterized by their multiple isoprene units (C5H8) organized into specific groupings: monoterpenoids (C10), sesquiterpenoids (C15), diterpenoids (C20), sesterterpenoids (C25), and triterpenoids (C30).\\\\n\\\\nThis structure has a more intricate arrangement, with multiple rings of various sizes and several heteroatoms, including nitrogen and oxygen, along with functionality that is not typical of simple terpenoid structures. It appears to have polyketide or other biosynthetic origin, indicating it may be a natural product from a different class.\\\\n\\\\nThe presence of lactone rings, ether linkages, and possibly other non-terpenoid elements suggests that it belongs to another category of natural compounds, likely a macrolide or similar complex structure often seen in bioactive natural products.' confidence='HIGH'\n",
      "False sesterterpenoid CHEBI:227311 61 C61H91NO20\n",
      "chemical_class='diterpenoid' explanation='The structure shown is a complex natural product featuring a diterpenoid core, as indicated by a carbon skeleton containing a series of repeating isoprene units (each containing five carbon atoms). Specifically, it is made up of 20 carbon atoms, typical for diterpenoids. Additionally, the presence of fused rings and several oxygen-containing functional groups are common in diterpenoids. Although the structure is more elaborate due to additional functionalization and ring systems, the terpenoid core is the key structural element.' confidence='HIGH'\n",
      "False sesterterpenoid CHEBI:225151 61 C61H86N2O22\n",
      "chemical_class='triterpenoid' explanation='The structure shown in the image appears to have a large carbon framework typical of a triterpenoid. Triterpenoids are composed of six isoprene units which contribute to 30 carbon atoms forming a complex base skeleton. The structure in the image exhibits multiple cyclic formations and a significant quantity of carbon, consistent with the characteristics of triterpenoids. No anomalies in ring structure suggest deviation from this classification. There is also no indication of smaller, distinct terpene units that would suggest a classification as a different type of terpenoid.' confidence='HIGH'\n",
      "False sesterterpenoid CHEBI:225057 55 C55H76N2O19\n",
      "chemical_class='diterpenoid' explanation='The structure shown is typical of a diterpenoid. Diterpenes are composed of four isoprene units, resulting in a C20 backbone. The image depicts a complex ring structure with multiple substituents, which is common in diterpenoids. Additional functional groups, such as oxygens, are present, further showcasing the complexity often found in this class of compounds.' confidence='HIGH'\n",
      "False sesterterpenoid CHEBI:223179 53 C53H90O20\n",
      "chemical_class='triterpenoid' explanation='The chemical structure is complex with multi-ring formations, extended carbon chains, and oxygen-containing functional groups. It consists of a large number of carbon atoms, which suggests a triterpenoid structure, as these typically contain around 30 carbon atoms forming six isoprene units. The presence of multiple rings and oxygen atoms may also indicate functional group substitutions on the typical backbone seen in many terpenoids.' confidence='HIGH'\n",
      "False sesterterpenoid CHEBI:222849 61 C61H92N2O19\n",
      "chemical_class='other' explanation=\"The depicted structure is highly complex, featuring several sugar moieties attached to a core section that resembles a larger macrolide ring structure. However, the presence of multiple oxygen atoms, several ring structures, and a general appearance resembling macrolide antibiotics suggests that this compound is not a typical terpenoid but rather fits better in categories of complex natural compounds like antibiotics. Terpenoids are typically classified based on the number of isoprene units, and this structure doesn't align with those categories.\" confidence='HIGH'\n",
      "False sesterterpenoid CHEBI:220902 61 C61H113NO24\n",
      "chemical_class='other' explanation='The structure shown is a large macrocyclic compound with multiple pyrrole rings linked by methylene bridges and ester linkages, characteristic of porphyrin derivatives rather than terpenoids. The core structure is not based on the isoprene units typical of terpenoids. Instead, this molecule has a highly conjugated cyclic backbone typical of chlorophylls or heme groups.' confidence='HIGH'\n",
      "False sesterterpenoid CHEBI:220305 61 C61H90N2O21\n",
      "chemical_class='other' explanation='The structure depicted features several complex fused rings and other non-terpenoid structures, indicating that this is not a simple terpenoid. Terpenoids are typically categorized by their isoprene units (C5H8). Monoterpenoids have 2 isoprene units, sesquiterpenoids have 3, diterpenoids have 4, sesterterpenoids have 5, and triterpenoids have 6. The image, however, shows more complexity and deviations that include nitrogen atoms and glycosidic linkages that are not characteristic of basic terpenoid structures. Therefore, this structure falls outside the typical classification of terpenoids.' confidence='HIGH'\n",
      "False sesterterpenoid CHEBI:219654 67 C67H96N2O24\n",
      "chemical_class='other' explanation='The structure depicted is complex, showing several distinct ring systems and functional groups outside the typical classifications for simple terpenoids. It appears to contain multiple aromatic and heterocyclic rings, elaborate oxygen-containing groups, and appears too intricate for typical terpenoid categories like monoterpenoid, sesquiterpenoid, diterpenoid, sesterterpenoid, or triterpenoid. Instead, the complexity suggests it could be a structure belonging to a class of complex natural products or alkaloids, perhaps a type of macrocycle or polyketide.' confidence='HIGH'\n",
      "False sesterterpenoid CHEBI:217436 57 C57H72N2O13\n",
      "chemical_class='diterpenoid' explanation='The structure contains four isoprene units, each consisting of five carbon atoms, resulting in a total of 20 carbon atoms, as is characteristic of diterpenoids. The presence of multiple cyclic ring systems and several hydroxyl and ketone functional groups further supports this classification. The arrangement and number of isoprene units match with that of a diterpenoid. Additional features, such as the complex ring systems and functional groups, align with known diterpenoids in nature.' confidence='HIGH'\n",
      "False sesterterpenoid CHEBI:217428 57 C57H72N2O13\n",
      "chemical_class='triterpenoid' explanation='The structure contains six isoprene units, identified by the arrangement of carbons and the characteristic grouping pattern typical for terpenoids. It forms a complex polycyclic structure with multiple fused six-membered rings. The presence of various functional groups (hydroxyls and carbonyls) does not alter its classification as a triterpenoid. Triterpenoids typically have 30 carbons, aligning with the presence of six isoprene units observed here.' confidence='HIGH'\n",
      "False sesterterpenoid CHEBI:217361 51 C51H72N4O16\n",
      "chemical_class='other' explanation=\"The structure in the image is complex, featuring multiple rings and heteroatoms (notably oxygen and nitrogen). Typical terpenoids such as monoterpenoids, sesquiterpenoids, diterpenoids, sesterterpenoids, and triterpenoids primarily consist of hydrocarbon chains and rings forming isoprene units (C5H8)n. In this structure, the presence of additional ring systems and functional groups deviates from the typical isoprene rule. This suggests it is not a typical terpenoid but rather belongs to a different class of natural compounds or complex molecules. The configuration and the nature of rings (especially if aromatic or heterocyclic) imply it may be an alkaloid or another kind of secondary metabolite. The structure has distinct characteristics that separate it from the typical terpenoid constructs.\\nTherefore, this molecule likely falls into the 'other' category for classification purposes.\" confidence='HIGH'\n",
      "False sesterterpenoid CHEBI:217355 51 C51H76N4O12\n",
      "chemical_class='diterpenoid' explanation='The structure consists of a fused ring system that includes four six-membered rings with various oxygen-containing functional groups attached. The molecule falls into the diterpenoid category, which typically comprises structures with 20 carbon atoms arranged in multiple rings. The complexity and the number of functional groups further support this classification.' confidence='HIGH'\n",
      "False sesterterpenoid CHEBI:217349 51 C51H76N4O13\n",
      "chemical_class='triterpenoid' explanation='The structure is quite complex, featuring six isoprene units which are indicative of a triterpenoid structure. This class is composed of 30 carbon atoms and often forms a steroid-like or squalene structure, as seen here. The multiple rings and the complexity of the structure are characteristic of triterpenoids, often utilized in various biological applications. Additionally, the presence of various functional groups and modifications, further implies the complex nature and functional use often seen in triterpenoids.' confidence='HIGH'\n",
      "False sesterterpenoid CHEBI:217342 51 C51H74N4O14\n",
      "chemical_class='diterpenoid' explanation='The structure appears to be a macrolide, which is a class of natural products that often includes terpenoid compounds. Given the size and complexity of the structure, including multiple ring systems and oxygen-containing functional groups, it is consistent with a diterpenoid, which typically has 20 carbon atoms derived from four isoprene units. Other terpenoid classes like monoterpenoids or sesquiterpenoids are generally smaller, while triterpenoids are larger. The complexity and size point to the diterpenoid classification.' confidence='MEDIUM'\n",
      "False sesterterpenoid CHEBI:217337 51 C51H74N4O15\n",
      "chemical_class='other' explanation=\"The structure in the image consists of fused rings and multiple ester and hydroxyl functional groups. The backbone features a macrocyclic ring (a large ring structure) with additional pendant lactone rings and sugar moieties. This complex structure does not match the typical structural patterns of terpenoids, which are primarily based on the isoprene unit pattern (C5H8)n. Instead, this structure is more consistent with a macrolide antibiotic, which is a class of compounds known for these characteristics. Hence, it is classified as 'other', not fitting the standard terpenoid categories.\" confidence='HIGH'\n",
      "False sesterterpenoid CHEBI:216346 69 C69H102N2O22\n",
      "chemical_class='other' explanation='Upon analyzing the structure, it is evident that this molecule is more complex than typical terpenoids which are built from isoprene units. Terpenoids are generally categorized based on the number of isoprene (C5H8) units they contain: monoterpenoids (C10), sesquiterpenoids (C15), diterpenoids (C20), sesterterpenoids (C25), triterpenoids (C30), etc. This structure contains additional functional groups and ring systems that make it atypical for a straightforward classification as one of the terpenoid categories mentioned. The structure seems to have a more complex framework, possibly including steroidal or alkaloid features, common in natural products with diverse functional modifications. This structure is likely beyond the simple categorization into terpenoid classes based solely on carbon count and arrangement as it may not directly follow the isoprene rule.' confidence='HIGH'\n",
      "False sesterterpenoid CHEBI:215901 50 C50H64O14\n",
      "chemical_class='diterpenoid' explanation='The structure presented exhibits a complex arrangement of rings and substituents, characteristic of diterpenoids. Typically, diterpenoids contain 20 carbon atoms, often arranged in four isoprene units. This molecule has features that align well with these criteria, including the presence of multiple isoprenoid units forming a polycyclic compound. The characteristic diterpenoid backbone, along with additional oxygenated functional groups, indicates its classification as a diterpenoid.' confidence='HIGH'\n",
      "False sesterterpenoid CHEBI:213623 61 C61H90N2O20\n",
      "chemical_class='other' explanation='The provided chemical structure is complex, containing multiple rings and functional groups. It does not fit the typical isoprene unit multiples seen in monoterpenoids (C10), sesquiterpenoids (C15), diterpenoids (C20), sesterterpenoids (C25), or triterpenoids (C30). The structure also includes nitrogen atoms, suggesting the presence of alkaloid-like features which are not typical for pure terpenoids. Overall, it appears to be a complex natural product that does not conform to standard terpenoid classifications.' confidence='HIGH'\n",
      "False sesterterpenoid CHEBI:213524 61 C61H88N2O21\n",
      "chemical_class='other' explanation='The chemical structure depicted in the image is not a straightforward terpenoid compound. Terpenoids are typically categorized based on the number of isoprene units (C5H8) they contain, such as monoterpenoids (10 carbons), sesquiterpenoids (15 carbons), diterpenoids (20 carbons), and so on. This structure, however, is much more complex and does not fit these categories due to the presence of several non-hydrocarbon functional groups and multiple ring systems. The presence of lactone rings, amide groups, and extensive cyclic structures suggests it belongs to another class of complex organic compounds, likely a larger macrocyclic compound.' confidence='HIGH'\n",
      "False sesterterpenoid CHEBI:213314 56 C56H75ClO19\n",
      "chemical_class='triterpenoid' explanation='The structure displayed appears to be a triterpenoid. Triterpenoids typically contain 30 carbon atoms, arranged in a structure based on six isoprene units. The intricate ring system and the presence of numerous hydroxyl, ketone, and ester groups further indicate a complex triterpene structure. This molecule also has polycyclic frameworks common in triterpenoids. Given these observations, the classification as a triterpenoid is made with high confidence.' confidence='HIGH'\n",
      "False sesterterpenoid CHEBI:213281 68 C68H96N2O26\n",
      "chemical_class='triterpenoid' explanation='The structure shown is composed of six isoprene units, indicating that it belongs to the class of triterpenoids, which are characterized by having 30 carbon atoms derived from the combination of six isoprene units. The structure appears complex with multiple ring systems and functional groups, typical of triterpenoids. These are often involved in forming more complex structures with various pharmacological activities.' confidence='HIGH'\n",
      "False sesterterpenoid CHEBI:212785 61 C61H92N2O19\n",
      "chemical_class='other' explanation='The structure shown is a complex glycoside and does not fit neatly into the typical categories of terpenoids. It contains multiple sugar moieties and appears to be a cardenolide or steroidal glycoside rather than a simple terpenoid structure. The presence of multiple sugar rings, oxygen heteroatoms, and a distinctive lactone ring with a steroid-like framework excludes it from monoterpenoid, sesquiterpenoid, diterpenoid, sesterterpenoid, or triterpenoid classes.' confidence='HIGH'\n",
      "False sesterterpenoid CHEBI:212621 61 C61H92N2O20\n",
      "chemical_class='other' explanation='The structure is complex and appears to contain multiple aromatic rings and numerous oxygen-containing functional groups. It does not resemble typical linear or cyclic arrangements of monoterpenoids, sesquiterpenoids, diterpenoids, sesterterpenoids, or triterpenoids, which are generally built from isoprene units arranged in simple patterns. This structure likely belongs to a different class of natural compounds, possibly involving aromatic scaffolds with glycosidic linkages.' confidence='HIGH'\n",
      "False sesterterpenoid CHEBI:211548 62 C62H115NO24\n",
      "chemical_class='other' explanation=\"The structure shown is not a common terpenoid. It consists of a long chain with multiple alternating double and single bonds, along with several oxygen atoms (possibly indicating hydroxyl groups), and a terminal nitrogen-containing group, implying it is likely a polyketide or another type of compound rather than a simple terpenoid. Terpenoids typically have isoprene units (multiples of 5 carbons). This compound has a far longer and more complex carbon backbone and doesn't fit the standard terpenoid categories.\" confidence='HIGH'\n",
      "False sesterterpenoid CHEBI:208447 56 C56H75ClO18\n",
      "chemical_class='triterpenoid' explanation='The structure shown is highly complex with multiple fused rings and a large number of oxygen-containing functional groups. It has a steroid backbone indicative of many triterpenoids. Specifically, it seems to be glycyrrhizin, a well-known triterpenoid saponin. The characteristic cyclopentanoperhydrophenanthrene ring system, along with additional glycosidic attachments, confirms its classification as a triterpenoid.' confidence='HIGH'\n",
      "False sesterterpenoid CHEBI:207568 61 C61H88N2O20\n",
      "chemical_class='other' explanation='The chemical structure depicts a complex molecule with multiple ring systems, including aromatic and various heterocyclic rings, along with several oxygen substituents and possible nitrogen elements. The presence of numerous functional groups such as lactones and potential glycosidic linkages deviates from typical simple terpenoid structures. Terpenoids are usually classified by multiples of 5-carbon isoprene units, leading to monoterpenoids (10 carbons), sesquiterpenoids (15 carbons), diterpenoids (20 carbons), etc. This structure does not match those categories due to its complex multi-ring system and functional diversity, which extend beyond typical terpenoid features.' confidence='HIGH'\n",
      "False sesterterpenoid CHEBI:207562 64 C64H92N2O21\n",
      "chemical_class='Other' explanation='The structure in the image features complex fused ring systems, multiple oxygen atoms, and appears to contain both aromatic and non-aromatic rings. It includes functional groups such as ethers, lactones, and possibly amide groups, which indicate a highly functionalized structure. It does not conform to the typical structural units found in monoterpenoids, sesquiterpenoids, diterpenoids, sesterterpenoids, or triterpenoids, which are usually based on isoprene units and have distinct carbon skeletons such as C10, C15, C20, C25, and C30. The presence of these diverse functional groups suggests it is more likely classified as a complex natural product not falling within basic terpenoid classes.' confidence='HIGH'\n",
      "False sesterterpenoid CHEBI:207554 64 C64H92N2O20\n",
      "chemical_class='other' explanation='The structure contains multiple rings and functional groups, including oxygen-containing functional groups, which are typical in complex organic molecules. It does not fit the typical pattern of terpenoids, which are constructed from isoprene units (C5H8). The core structure does not resemble the typical backbone of common terpenoid types like monoterpenoids (C10), sesquiterpenoids (C15), diterpenoids (C20), etc. This particular structure appears to be a complex organic compound that likely does not belong to the standard terpenoid classification and is more likely a different type of natural product.' confidence='HIGH'\n",
      "False sesterterpenoid CHEBI:207548 70 C70H102N2O22\n",
      "chemical_class='triterpenoid' explanation='The structure is characterized by six cyclohexane rings interconnected, and it appears to have a complex polycyclic skeleton typical of triterpenoids. The scaffold exhibits multiple six-membered rings with additional functional groups like hydroxyl (OH) and ester groups. This type of fused ring system with approximately 30 carbon atoms corresponds well to a triterpenoid. Additionally, it exhibits functional complexity and diverse attachments, including oxygens and a nitrogen which are common in modified triterpenoids.' confidence='HIGH'\n",
      "False sesterterpenoid CHEBI:207543 64 C64H90N2O23\n",
      "chemical_class='other' explanation='The molecule depicted in the image is not clearly identifiable as a typical terpenoid structure like monoterpenoids, sesquiterpenoids, diterpenoids, sesterterpenoids, or triterpenoids. Traditional terpenes are built from isoprene units (C5H8) and typically show a defined carbon skeleton. The structure in the image features complex ring systems, multiple carbonyl groups, and nitrogen-containing moieties, which suggest it is likely a more complex structure, possibly an alkaloid or another class.\\n\\nThe cyclohexane and aromatic benzene-like rings, along with ester and amide linkages, indicate a complex and diverse functionality, which is not typical for simple terpenoids. Therefore, it belongs to a different chemical class.' confidence='HIGH'\n",
      "False sesterterpenoid CHEBI:207538 64 C64H90N2O22\n",
      "chemical_class='other' explanation='The structure in the image represents a complex molecule with multiple aromatic rings, lactone functionalities, and sugar moieties attached. It does not follow the classical C5n (where n is an integer) carbon skeleton typical of the terpenoid family. Terpenoids classically have isoprene units, and this structure looks more like a complex macrocyclic or polycyclic compound, possibly a natural product of a different class such as an anthracycline or a glycoside.' confidence='HIGH'\n",
      "False sesterterpenoid CHEBI:207531 70 C70H100N2O24\n",
      "chemical_class='other' explanation=\"The structure is highly complex and consists of multiple distinct parts. It includes several hexose moieties (sugar units), complex polycyclic structures, and a diverse array of functional groups including ethers and hydroxyls. This is characteristic of a macrolide or a related large macromolecule rather than a simple terpenoid structure, which are usually organized in chains or rings of isoprene units (multiples of C5). There is no repeated pattern of isoprene units typically seen in terpenoids. Therefore, it falls under 'other' rather than being classified within the provided terpenoid categories.\" confidence='HIGH'\n",
      "False sesterterpenoid CHEBI:205724 61 C61H91NO17\n",
      "chemical_class='triterpenoid' explanation='The structure shown is a complex ring system typical of triterpenoids, which are characterized by having thirty carbon atoms. This structure features multiple six-membered and five-membered rings, indicative of a steroidal framework, which is common in triterpenoid compounds. Additionally, the presence of multiple hydroxyl groups and other functional modifications are typical derivations found in natural triterpenoids. Based on the complexity and carbon count, it does not fit into the smaller categories of monoterpenoids, sesquiterpenoids, diterpenoids, or sesterterpenoids. Therefore, the classification as a triterpenoid is appropriate.' confidence='HIGH'\n",
      "False sesterterpenoid CHEBI:205610 61 C61H90N2O22\n",
      "chemical_class='other' explanation='The structure depicted is complex, featuring multiple aromatic rings, likely indicating a non-terpenoid chemical such as an alkaloid or a complex polycyclic compound. The presence of nitrogen atoms also suggests it is not a standard terpenoid, which are typically hydrocarbons or contain only oxygen as a heteroatom. The diverse functional groups and complexity move it away from basic terpenoid structures, which are simple isoprene derivatives categorized by carbon skeleton size such as monoterpenoids (C10), sesquiterpenoids (C15), diterpenoids (C20), sesterterpenoids (C25), and triterpenoids (C30).' confidence='HIGH'\n",
      "False sesterterpenoid CHEBI:205609 67 C67H100N2O24\n",
      "chemical_class='Other' explanation='The structure depicted contains several fused non-aromatic rings and contains heteroatoms such as oxygen and nitrogen, which suggests the presence of multiple different functionalities. The complexity of the structure, along with multiple specialized ring systems and heteroatoms, indicates that this compound is more likely an alkaloid or another specialized class of natural products, rather than a simple terpenoid like those classified as monoterpenoids, sesquiterpenoids, diterpenoids, sesterterpenoids, or triterpenoids. Terpenoids typically have isoprene units and more uniform ring systems without the incorporation of nitrogen in the core structure.' confidence='HIGH'\n",
      "False sesterterpenoid CHEBI:205410 62 C62H93NO17\n",
      "chemical_class='triterpenoid' explanation='The structure presented is characterized by six isoprene units, as deduced from its ring formations and carbon count. This indicates that the compound falls in the category of triterpenoids, which typically have 30 carbon atoms. The structure includes multiple ring systems, some of which contain oxygen and nitrogen atoms, typical of complex sterol-type structures. The presence of a sterol backbone alongside various functional groups supports its classification as a triterpenoid.' confidence='HIGH'\n",
      "False sesterterpenoid CHEBI:204520 50 C50H65NO13\n",
      "chemical_class='triterpenoid' explanation='The structure contains six isoprene units (C5H8 each), which collectively form a trisaccharide core typical of triterpenoids. The presence of three six-membered rings and one five-membered ring connected in a steroidal framework is a distinguishing feature of triterpenoids. Additionally, the various functional groups and modifications like epoxides and hydroxyls add complexity typical of this class.' confidence='HIGH'\n",
      "False sesterterpenoid CHEBI:203431 54 C54H78N2O17\n",
      "chemical_class='other' explanation='The structure depicted is not a straightforward terpenoid. Terpenoids typically consist of repeating isoprene (C5H8) units arranged in a characteristic pattern. Monoterpenoids have 10 carbons, sesquiterpenoids have 15, diterpenoids have 20, sesterterpenoids have 25, and triterpenoids have 30. The provided structure is more complex, resembling a macrolide with multiple lactone rings and functional groups, which do not conform to the simple isoprene rule of standard terpenoids.' confidence='HIGH'\n",
      "False sesterterpenoid CHEBI:203312 68 C68H103NO19\n",
      "chemical_class='triterpenoid' explanation='The chemical structure shown depicts a complex molecule made up of six isoprene units, as observed in the terpenoid class known as triterpenoids. This structure has a polycyclic backbone with noticeable carbon-carbon double bonds and substituents typical of oxidative forms, such as the presence of an ether linkage and a nitrogen-containing functional group (in blue). Given the number of cyclohexane and cyclopentane rings, which are typical of steroid and triterpenoid skeletons, along with an extended chain of rings and functional groups, it fits the triterpenoid category. This detailed observation of the rings and linkages leads to a confident classification.' confidence='HIGH'\n",
      "False sesterterpenoid CHEBI:203131 61 C61H92N2O19\n",
      "chemical_class='other' explanation='The structure is complex with multiple fused rings and several functional groups, such as hydroxyl (-OH) and carboxyl (C=O) groups, connected to sugar-like subunits. These features are characteristic of macrolides or polyether compounds, rather than simple terpenoids, which are typically classified by multiples of isoprene units. The presence of polysaccharide-like chains further supports this classification beyond standard terpenoid categories.' confidence='HIGH'\n",
      "False sesterterpenoid CHEBI:202825 93 C93H178O3\n",
      "chemical_class='other' explanation='The structure shown is a large, branched hydrocarbon with oxygen atoms present, likely indicating ether linkages or similar functional groups. It consists of significantly more than 30 carbon atoms, breaking it down from the terpenoid classification. Terpenoids typically adhere to isoprene units with classifications based on multiples of five carbon atoms (10 for monoterpenoids, 15 for sesquiterpenoids, etc.). This structure, with its complexity and branching, does not fit into the classic terpenoid categories and is instead likely representing a different class of compounds such as a polyether or a synthetic polymer.' confidence='HIGH'\n",
      "False sesterterpenoid CHEBI:202112 61 C61H88N2O21\n",
      "chemical_class='other' explanation=\"The structure depicted is a complex macrolide with multiple ring systems and ester linkages. It appears to be an intricate organic molecule rather than a typical terpenoid, as it does not follow the isoprene rule or exhibit the typical carbon skeletons associated with monoterpenoids (C10), sesquiterpenoids (C15), diterpenoids (C20), sesterterpenoids (C25), or triterpenoids (C30). The presence of heteroatoms such as oxygen and nitrogen, along with the structural intricacy, suggests that this is classified as 'other' rather than fitting into conventional terpenoid categories.\" confidence='HIGH'\n",
      "False sesterterpenoid CHEBI:201795 67 C67H101NO20\n",
      "chemical_class='other' explanation=\"The structure in the image appears to be a complex polycyclic compound with multiple aromatic rings and various functional groups including keto groups and ether linkages. It doesn't fit comfortably into the typical terpenoid categories, which are primarily characterized by repeating isoprene units (n C5H8 units), distinctive hydrocarbon chains, and rings. \\n\\nThis compound has unusual branching and rings that signify it may belong to a different class or specific family outside the standard terpenoid classification (e.g., complex plant secondary metabolites). Therefore, it's classified as 'other' and not as a monoterpenoid, sesquiterpenoid, diterpenoid, sesterterpenoid, or triterpenoid with HIGH confidence.\" confidence='HIGH'\n",
      "False sesterterpenoid CHEBI:201335 69 C69H100N2O24\n",
      "chemical_class='other' explanation='The structure shown contains multiple rings, including a complex array of oxygen heterocycles and a lactone ring, which do not conform to typical terpenoid structures. Terpenoids are generally classified by isoprene units (C5H8), such as monoterpenoids (C10), sesquiterpenoids (C15), etc., but this structure appears to contain more diversity and complexity beyond simple hydrocarbon chains or rings. It likely represents a polyketide or other complex natural product class rather than a simple terpenoid type.' confidence='HIGH'\n",
      "False sesterterpenoid CHEBI:200655 67 C67H101NO19\n",
      "chemical_class='other' explanation='The structure displayed is highly complex, containing multiple fused rings, heteroatoms, and a significant level of branching. While the terpenoid classification commonly involves repeating isoprene units leading to structures typically composed of multiples of five carbon atoms (e.g., C10 for monoterpenoids, C15 for sesquiterpenoids, etc.), this molecule features atypical structural components that do not suggest it fits into the simple classifications of monoterpenoids, sesquiterpenoids, diterpenoids, sesterterpenoids, or triterpenoids.' confidence='HIGH'\n",
      "False diterpenoid CHEBI:94606 43 C43H53NO14\n",
      "chemical_class='other' explanation='The chemical structure depicted is complex with multiple rings, including aromatic rings and various functional groups such as esters and hydroxyl groups. Terpenoids typically have a repetitive isoprene unit pattern, but this structure lacks the classical isoprene-derived modular appearance. Instead, it shows a combination of aromatic and non-aromatic rings with several substituent groups, suggesting it is not a simple terpenoid structure. It closely resembles more complex organic compounds, likely falling outside the typical basic terpenoid classifications of monoterpenoid, sesquiterpenoid, diterpenoid, etc.' confidence='HIGH'\n",
      "False diterpenoid CHEBI:94460 41 C41H74O7\n",
      "chemical_class='triterpenoid' explanation=\"The structure in the image consists of 30 carbon atoms arranged in a cyclic and acyclic hydrocarbon chain typical of triterpenoids. Triterpenoids are derived from the repetitive isoprene unit which can be seen in the cyclic arrangements and linear chains. The five six-membered rings are part of the structure's distinctive characteristics resembling the triterpenoid class. Additional functional groups and the specific placement of carbons help confirm the classification as a triterpenoid.\" confidence='HIGH'\n",
      "False diterpenoid CHEBI:93763 43 C43H53NO14\n",
      "chemical_class='other' explanation='This structure includes a complex polycyclic core with multiple oxygen functionalities, phenyl groups, and other ring systems that are not typical of simple terpenoids. It contains various functional groups like esters, lactones, and aromatic rings that suggest a more complex structure rather than a simple terpenoid. Therefore, it does not fit clearly into the common terpenoid categories such as monoterpenoid, sesquiterpenoid, or diterpenoid. The presence of the polycyclic structure with oxygen bridges is uncommon for these categories, aligning it more with complex alkaloids or other classes.' confidence='HIGH'\n",
      "False diterpenoid CHEBI:91594 47 C47H51NO14\n",
      "chemical_class='Other' explanation='The structure shown is complex with multiple aromatic rings, hydroxyl groups, and ester linkages, but it does not exhibit the typical branched carbon backbone structure characteristic of terpenoids based on isoprene units. Terpenoids typically consist of isoprene units (C5H8)n, which are not evident in this structure. Instead, this molecule features structural motifs suggesting it is more likely an alkaloid or other type of natural product.' confidence='HIGH'\n",
      "False diterpenoid CHEBI:8046 65 C65H104O31\n",
      "chemical_class='triterpenoid' explanation='The structure in the image is a complex molecule that features a steroid-like backbone which is characteristic of triterpenoids. This class typically consists of 30 carbon atoms, arranged in a structure derived from six isoprene units, and possesses a four-ring structure. In addition, the structure is attached to several glucose moieties, indicating a glycosidic form which is common in natural triterpenoids. The complexity and the distinct steroid-like framework suggest that this is a triterpenoid with a high confidence level.' confidence='HIGH'\n",
      "False diterpenoid CHEBI:80196 40 C40H48\n",
      "chemical_class='other' explanation='The structure in the image is of beta-carotene, which is a tetraterpenoid. It consists of eight isoprene units forming a long chain with alternating double bonds, typical of carotenoids. Terpenoids typically fall into categories of monoterpenoids (C10), sesquiterpenoids (C15), diterpenoids (C20), sesterterpenoids (C25), or triterpenoids (C30). Vitamin A precursors like beta-carotene are often classified as tetraterpenoids (C40), which does not fit into the traditional terpenoid categories listed.' confidence='HIGH'\n",
      "False diterpenoid CHEBI:80117 43 C43H70O11\n",
      "chemical_class='triterpenoid' explanation='The structure is a large molecule consisting of thirty carbon atoms, a characteristic of triterpenoids, formed by the polymerization of six isoprene units. It showcases multiple fused rings typical of triterpenoids with complex oxygen functionalities added, including carbonyls and ethers, which is common in biologically active triterpenoids.' confidence='HIGH'\n",
      "False diterpenoid CHEBI:79068 44 C44H64O24\n",
      "chemical_class='other' explanation='The structure shown is not a typical terpenoid. It consists of a central long-chain polyene structure with conjugated double bonds and terminal hexose sugars. This arrangement is characteristic of a carotenoid, specifically a xanthophyll due to the presence of oxygen-containing functional groups (multiple hydroxyl groups and carbonyl groups). Carotenoids like xanthophylls are classified separately from typical terpenoids due to their unique structure and function, even though they share a common isoprene derivation pathway. Hence, it falls into the \"other\" category rather than the specific terpenoid classes listed.' confidence='HIGH'\n",
      "True diterpenoid CHEBI:74030 40 C40H47NO12\n",
      "chemical_class='diterpenoid' explanation='The chemical structure displayed contains four isoprene units, consistent with diterpenoids, which are typically composed of 20 carbon atoms arranged in a structure derived from geranylgeranyl pyrophosphate. The core structure appears to be a complex carbocycle, a typical feature of diterpenoids, often observed in naturally occurring compounds derived from plants. The additional functional groups do not alter the classification as they are modifications often seen in natural product derivatives.' confidence='HIGH'\n"
     ]
    },
    {
     "ename": "ModelHTTPError",
     "evalue": "status_code: 400, model_name: gpt-4o, body: {'message': 'Timeout while downloading https://www.ebi.ac.uk/chebi/displayImage.do?defaultImage=true&imageIndex=0&chebiId=71980.', 'type': 'invalid_request_error', 'param': None, 'code': 'invalid_image_url'}",
     "output_type": "error",
     "traceback": [
      "\u001B[0;31m---------------------------------------------------------------------------\u001B[0m",
      "\u001B[0;31mBadRequestError\u001B[0m                           Traceback (most recent call last)",
      "File \u001B[0;32m~/Library/Caches/pypoetry/virtualenvs/aurelian-JldJeJhF-py3.11/lib/python3.11/site-packages/pydantic_ai/models/openai.py:228\u001B[0m, in \u001B[0;36mOpenAIModel._completions_create\u001B[0;34m(self, messages, stream, model_settings, model_request_parameters)\u001B[0m\n\u001B[1;32m    227\u001B[0m \u001B[38;5;28;01mtry\u001B[39;00m:\n\u001B[0;32m--> 228\u001B[0m     \u001B[38;5;28;01mreturn\u001B[39;00m \u001B[38;5;28;01mawait\u001B[39;00m \u001B[38;5;28mself\u001B[39m\u001B[38;5;241m.\u001B[39mclient\u001B[38;5;241m.\u001B[39mchat\u001B[38;5;241m.\u001B[39mcompletions\u001B[38;5;241m.\u001B[39mcreate(\n\u001B[1;32m    229\u001B[0m         model\u001B[38;5;241m=\u001B[39m\u001B[38;5;28mself\u001B[39m\u001B[38;5;241m.\u001B[39m_model_name,\n\u001B[1;32m    230\u001B[0m         messages\u001B[38;5;241m=\u001B[39mopenai_messages,\n\u001B[1;32m    231\u001B[0m         n\u001B[38;5;241m=\u001B[39m\u001B[38;5;241m1\u001B[39m,\n\u001B[1;32m    232\u001B[0m         parallel_tool_calls\u001B[38;5;241m=\u001B[39mmodel_settings\u001B[38;5;241m.\u001B[39mget(\u001B[38;5;124m'\u001B[39m\u001B[38;5;124mparallel_tool_calls\u001B[39m\u001B[38;5;124m'\u001B[39m, NOT_GIVEN),\n\u001B[1;32m    233\u001B[0m         tools\u001B[38;5;241m=\u001B[39mtools \u001B[38;5;129;01mor\u001B[39;00m NOT_GIVEN,\n\u001B[1;32m    234\u001B[0m         tool_choice\u001B[38;5;241m=\u001B[39mtool_choice \u001B[38;5;129;01mor\u001B[39;00m NOT_GIVEN,\n\u001B[1;32m    235\u001B[0m         stream\u001B[38;5;241m=\u001B[39mstream,\n\u001B[1;32m    236\u001B[0m         stream_options\u001B[38;5;241m=\u001B[39m{\u001B[38;5;124m'\u001B[39m\u001B[38;5;124minclude_usage\u001B[39m\u001B[38;5;124m'\u001B[39m: \u001B[38;5;28;01mTrue\u001B[39;00m} \u001B[38;5;28;01mif\u001B[39;00m stream \u001B[38;5;28;01melse\u001B[39;00m NOT_GIVEN,\n\u001B[1;32m    237\u001B[0m         max_tokens\u001B[38;5;241m=\u001B[39mmodel_settings\u001B[38;5;241m.\u001B[39mget(\u001B[38;5;124m'\u001B[39m\u001B[38;5;124mmax_tokens\u001B[39m\u001B[38;5;124m'\u001B[39m, NOT_GIVEN),\n\u001B[1;32m    238\u001B[0m         temperature\u001B[38;5;241m=\u001B[39mmodel_settings\u001B[38;5;241m.\u001B[39mget(\u001B[38;5;124m'\u001B[39m\u001B[38;5;124mtemperature\u001B[39m\u001B[38;5;124m'\u001B[39m, NOT_GIVEN),\n\u001B[1;32m    239\u001B[0m         top_p\u001B[38;5;241m=\u001B[39mmodel_settings\u001B[38;5;241m.\u001B[39mget(\u001B[38;5;124m'\u001B[39m\u001B[38;5;124mtop_p\u001B[39m\u001B[38;5;124m'\u001B[39m, NOT_GIVEN),\n\u001B[1;32m    240\u001B[0m         timeout\u001B[38;5;241m=\u001B[39mmodel_settings\u001B[38;5;241m.\u001B[39mget(\u001B[38;5;124m'\u001B[39m\u001B[38;5;124mtimeout\u001B[39m\u001B[38;5;124m'\u001B[39m, NOT_GIVEN),\n\u001B[1;32m    241\u001B[0m         seed\u001B[38;5;241m=\u001B[39mmodel_settings\u001B[38;5;241m.\u001B[39mget(\u001B[38;5;124m'\u001B[39m\u001B[38;5;124mseed\u001B[39m\u001B[38;5;124m'\u001B[39m, NOT_GIVEN),\n\u001B[1;32m    242\u001B[0m         presence_penalty\u001B[38;5;241m=\u001B[39mmodel_settings\u001B[38;5;241m.\u001B[39mget(\u001B[38;5;124m'\u001B[39m\u001B[38;5;124mpresence_penalty\u001B[39m\u001B[38;5;124m'\u001B[39m, NOT_GIVEN),\n\u001B[1;32m    243\u001B[0m         frequency_penalty\u001B[38;5;241m=\u001B[39mmodel_settings\u001B[38;5;241m.\u001B[39mget(\u001B[38;5;124m'\u001B[39m\u001B[38;5;124mfrequency_penalty\u001B[39m\u001B[38;5;124m'\u001B[39m, NOT_GIVEN),\n\u001B[1;32m    244\u001B[0m         logit_bias\u001B[38;5;241m=\u001B[39mmodel_settings\u001B[38;5;241m.\u001B[39mget(\u001B[38;5;124m'\u001B[39m\u001B[38;5;124mlogit_bias\u001B[39m\u001B[38;5;124m'\u001B[39m, NOT_GIVEN),\n\u001B[1;32m    245\u001B[0m         reasoning_effort\u001B[38;5;241m=\u001B[39mmodel_settings\u001B[38;5;241m.\u001B[39mget(\u001B[38;5;124m'\u001B[39m\u001B[38;5;124mopenai_reasoning_effort\u001B[39m\u001B[38;5;124m'\u001B[39m, NOT_GIVEN),\n\u001B[1;32m    246\u001B[0m     )\n\u001B[1;32m    247\u001B[0m \u001B[38;5;28;01mexcept\u001B[39;00m APIStatusError \u001B[38;5;28;01mas\u001B[39;00m e:\n",
      "File \u001B[0;32m~/Library/Caches/pypoetry/virtualenvs/aurelian-JldJeJhF-py3.11/lib/python3.11/site-packages/openai/resources/chat/completions/completions.py:1927\u001B[0m, in \u001B[0;36mAsyncCompletions.create\u001B[0;34m(self, messages, model, audio, frequency_penalty, function_call, functions, logit_bias, logprobs, max_completion_tokens, max_tokens, metadata, modalities, n, parallel_tool_calls, prediction, presence_penalty, reasoning_effort, response_format, seed, service_tier, stop, store, stream, stream_options, temperature, tool_choice, tools, top_logprobs, top_p, user, extra_headers, extra_query, extra_body, timeout)\u001B[0m\n\u001B[1;32m   1926\u001B[0m validate_response_format(response_format)\n\u001B[0;32m-> 1927\u001B[0m \u001B[38;5;28;01mreturn\u001B[39;00m \u001B[38;5;28;01mawait\u001B[39;00m \u001B[38;5;28mself\u001B[39m\u001B[38;5;241m.\u001B[39m_post(\n\u001B[1;32m   1928\u001B[0m     \u001B[38;5;124m\"\u001B[39m\u001B[38;5;124m/chat/completions\u001B[39m\u001B[38;5;124m\"\u001B[39m,\n\u001B[1;32m   1929\u001B[0m     body\u001B[38;5;241m=\u001B[39m\u001B[38;5;28;01mawait\u001B[39;00m async_maybe_transform(\n\u001B[1;32m   1930\u001B[0m         {\n\u001B[1;32m   1931\u001B[0m             \u001B[38;5;124m\"\u001B[39m\u001B[38;5;124mmessages\u001B[39m\u001B[38;5;124m\"\u001B[39m: messages,\n\u001B[1;32m   1932\u001B[0m             \u001B[38;5;124m\"\u001B[39m\u001B[38;5;124mmodel\u001B[39m\u001B[38;5;124m\"\u001B[39m: model,\n\u001B[1;32m   1933\u001B[0m             \u001B[38;5;124m\"\u001B[39m\u001B[38;5;124maudio\u001B[39m\u001B[38;5;124m\"\u001B[39m: audio,\n\u001B[1;32m   1934\u001B[0m             \u001B[38;5;124m\"\u001B[39m\u001B[38;5;124mfrequency_penalty\u001B[39m\u001B[38;5;124m\"\u001B[39m: frequency_penalty,\n\u001B[1;32m   1935\u001B[0m             \u001B[38;5;124m\"\u001B[39m\u001B[38;5;124mfunction_call\u001B[39m\u001B[38;5;124m\"\u001B[39m: function_call,\n\u001B[1;32m   1936\u001B[0m             \u001B[38;5;124m\"\u001B[39m\u001B[38;5;124mfunctions\u001B[39m\u001B[38;5;124m\"\u001B[39m: functions,\n\u001B[1;32m   1937\u001B[0m             \u001B[38;5;124m\"\u001B[39m\u001B[38;5;124mlogit_bias\u001B[39m\u001B[38;5;124m\"\u001B[39m: logit_bias,\n\u001B[1;32m   1938\u001B[0m             \u001B[38;5;124m\"\u001B[39m\u001B[38;5;124mlogprobs\u001B[39m\u001B[38;5;124m\"\u001B[39m: logprobs,\n\u001B[1;32m   1939\u001B[0m             \u001B[38;5;124m\"\u001B[39m\u001B[38;5;124mmax_completion_tokens\u001B[39m\u001B[38;5;124m\"\u001B[39m: max_completion_tokens,\n\u001B[1;32m   1940\u001B[0m             \u001B[38;5;124m\"\u001B[39m\u001B[38;5;124mmax_tokens\u001B[39m\u001B[38;5;124m\"\u001B[39m: max_tokens,\n\u001B[1;32m   1941\u001B[0m             \u001B[38;5;124m\"\u001B[39m\u001B[38;5;124mmetadata\u001B[39m\u001B[38;5;124m\"\u001B[39m: metadata,\n\u001B[1;32m   1942\u001B[0m             \u001B[38;5;124m\"\u001B[39m\u001B[38;5;124mmodalities\u001B[39m\u001B[38;5;124m\"\u001B[39m: modalities,\n\u001B[1;32m   1943\u001B[0m             \u001B[38;5;124m\"\u001B[39m\u001B[38;5;124mn\u001B[39m\u001B[38;5;124m\"\u001B[39m: n,\n\u001B[1;32m   1944\u001B[0m             \u001B[38;5;124m\"\u001B[39m\u001B[38;5;124mparallel_tool_calls\u001B[39m\u001B[38;5;124m\"\u001B[39m: parallel_tool_calls,\n\u001B[1;32m   1945\u001B[0m             \u001B[38;5;124m\"\u001B[39m\u001B[38;5;124mprediction\u001B[39m\u001B[38;5;124m\"\u001B[39m: prediction,\n\u001B[1;32m   1946\u001B[0m             \u001B[38;5;124m\"\u001B[39m\u001B[38;5;124mpresence_penalty\u001B[39m\u001B[38;5;124m\"\u001B[39m: presence_penalty,\n\u001B[1;32m   1947\u001B[0m             \u001B[38;5;124m\"\u001B[39m\u001B[38;5;124mreasoning_effort\u001B[39m\u001B[38;5;124m\"\u001B[39m: reasoning_effort,\n\u001B[1;32m   1948\u001B[0m             \u001B[38;5;124m\"\u001B[39m\u001B[38;5;124mresponse_format\u001B[39m\u001B[38;5;124m\"\u001B[39m: response_format,\n\u001B[1;32m   1949\u001B[0m             \u001B[38;5;124m\"\u001B[39m\u001B[38;5;124mseed\u001B[39m\u001B[38;5;124m\"\u001B[39m: seed,\n\u001B[1;32m   1950\u001B[0m             \u001B[38;5;124m\"\u001B[39m\u001B[38;5;124mservice_tier\u001B[39m\u001B[38;5;124m\"\u001B[39m: service_tier,\n\u001B[1;32m   1951\u001B[0m             \u001B[38;5;124m\"\u001B[39m\u001B[38;5;124mstop\u001B[39m\u001B[38;5;124m\"\u001B[39m: stop,\n\u001B[1;32m   1952\u001B[0m             \u001B[38;5;124m\"\u001B[39m\u001B[38;5;124mstore\u001B[39m\u001B[38;5;124m\"\u001B[39m: store,\n\u001B[1;32m   1953\u001B[0m             \u001B[38;5;124m\"\u001B[39m\u001B[38;5;124mstream\u001B[39m\u001B[38;5;124m\"\u001B[39m: stream,\n\u001B[1;32m   1954\u001B[0m             \u001B[38;5;124m\"\u001B[39m\u001B[38;5;124mstream_options\u001B[39m\u001B[38;5;124m\"\u001B[39m: stream_options,\n\u001B[1;32m   1955\u001B[0m             \u001B[38;5;124m\"\u001B[39m\u001B[38;5;124mtemperature\u001B[39m\u001B[38;5;124m\"\u001B[39m: temperature,\n\u001B[1;32m   1956\u001B[0m             \u001B[38;5;124m\"\u001B[39m\u001B[38;5;124mtool_choice\u001B[39m\u001B[38;5;124m\"\u001B[39m: tool_choice,\n\u001B[1;32m   1957\u001B[0m             \u001B[38;5;124m\"\u001B[39m\u001B[38;5;124mtools\u001B[39m\u001B[38;5;124m\"\u001B[39m: tools,\n\u001B[1;32m   1958\u001B[0m             \u001B[38;5;124m\"\u001B[39m\u001B[38;5;124mtop_logprobs\u001B[39m\u001B[38;5;124m\"\u001B[39m: top_logprobs,\n\u001B[1;32m   1959\u001B[0m             \u001B[38;5;124m\"\u001B[39m\u001B[38;5;124mtop_p\u001B[39m\u001B[38;5;124m\"\u001B[39m: top_p,\n\u001B[1;32m   1960\u001B[0m             \u001B[38;5;124m\"\u001B[39m\u001B[38;5;124muser\u001B[39m\u001B[38;5;124m\"\u001B[39m: user,\n\u001B[1;32m   1961\u001B[0m         },\n\u001B[1;32m   1962\u001B[0m         completion_create_params\u001B[38;5;241m.\u001B[39mCompletionCreateParams,\n\u001B[1;32m   1963\u001B[0m     ),\n\u001B[1;32m   1964\u001B[0m     options\u001B[38;5;241m=\u001B[39mmake_request_options(\n\u001B[1;32m   1965\u001B[0m         extra_headers\u001B[38;5;241m=\u001B[39mextra_headers, extra_query\u001B[38;5;241m=\u001B[39mextra_query, extra_body\u001B[38;5;241m=\u001B[39mextra_body, timeout\u001B[38;5;241m=\u001B[39mtimeout\n\u001B[1;32m   1966\u001B[0m     ),\n\u001B[1;32m   1967\u001B[0m     cast_to\u001B[38;5;241m=\u001B[39mChatCompletion,\n\u001B[1;32m   1968\u001B[0m     stream\u001B[38;5;241m=\u001B[39mstream \u001B[38;5;129;01mor\u001B[39;00m \u001B[38;5;28;01mFalse\u001B[39;00m,\n\u001B[1;32m   1969\u001B[0m     stream_cls\u001B[38;5;241m=\u001B[39mAsyncStream[ChatCompletionChunk],\n\u001B[1;32m   1970\u001B[0m )\n",
      "File \u001B[0;32m~/Library/Caches/pypoetry/virtualenvs/aurelian-JldJeJhF-py3.11/lib/python3.11/site-packages/openai/_base_client.py:1862\u001B[0m, in \u001B[0;36mAsyncAPIClient.post\u001B[0;34m(self, path, cast_to, body, files, options, stream, stream_cls)\u001B[0m\n\u001B[1;32m   1859\u001B[0m opts \u001B[38;5;241m=\u001B[39m FinalRequestOptions\u001B[38;5;241m.\u001B[39mconstruct(\n\u001B[1;32m   1860\u001B[0m     method\u001B[38;5;241m=\u001B[39m\u001B[38;5;124m\"\u001B[39m\u001B[38;5;124mpost\u001B[39m\u001B[38;5;124m\"\u001B[39m, url\u001B[38;5;241m=\u001B[39mpath, json_data\u001B[38;5;241m=\u001B[39mbody, files\u001B[38;5;241m=\u001B[39m\u001B[38;5;28;01mawait\u001B[39;00m async_to_httpx_files(files), \u001B[38;5;241m*\u001B[39m\u001B[38;5;241m*\u001B[39moptions\n\u001B[1;32m   1861\u001B[0m )\n\u001B[0;32m-> 1862\u001B[0m \u001B[38;5;28;01mreturn\u001B[39;00m \u001B[38;5;28;01mawait\u001B[39;00m \u001B[38;5;28mself\u001B[39m\u001B[38;5;241m.\u001B[39mrequest(cast_to, opts, stream\u001B[38;5;241m=\u001B[39mstream, stream_cls\u001B[38;5;241m=\u001B[39mstream_cls)\n",
      "File \u001B[0;32m~/Library/Caches/pypoetry/virtualenvs/aurelian-JldJeJhF-py3.11/lib/python3.11/site-packages/openai/_base_client.py:1556\u001B[0m, in \u001B[0;36mAsyncAPIClient.request\u001B[0;34m(self, cast_to, options, stream, stream_cls, remaining_retries)\u001B[0m\n\u001B[1;32m   1554\u001B[0m     retries_taken \u001B[38;5;241m=\u001B[39m \u001B[38;5;241m0\u001B[39m\n\u001B[0;32m-> 1556\u001B[0m \u001B[38;5;28;01mreturn\u001B[39;00m \u001B[38;5;28;01mawait\u001B[39;00m \u001B[38;5;28mself\u001B[39m\u001B[38;5;241m.\u001B[39m_request(\n\u001B[1;32m   1557\u001B[0m     cast_to\u001B[38;5;241m=\u001B[39mcast_to,\n\u001B[1;32m   1558\u001B[0m     options\u001B[38;5;241m=\u001B[39moptions,\n\u001B[1;32m   1559\u001B[0m     stream\u001B[38;5;241m=\u001B[39mstream,\n\u001B[1;32m   1560\u001B[0m     stream_cls\u001B[38;5;241m=\u001B[39mstream_cls,\n\u001B[1;32m   1561\u001B[0m     retries_taken\u001B[38;5;241m=\u001B[39mretries_taken,\n\u001B[1;32m   1562\u001B[0m )\n",
      "File \u001B[0;32m~/Library/Caches/pypoetry/virtualenvs/aurelian-JldJeJhF-py3.11/lib/python3.11/site-packages/openai/_base_client.py:1657\u001B[0m, in \u001B[0;36mAsyncAPIClient._request\u001B[0;34m(self, cast_to, options, stream, stream_cls, retries_taken)\u001B[0m\n\u001B[1;32m   1656\u001B[0m     log\u001B[38;5;241m.\u001B[39mdebug(\u001B[38;5;124m\"\u001B[39m\u001B[38;5;124mRe-raising status error\u001B[39m\u001B[38;5;124m\"\u001B[39m)\n\u001B[0;32m-> 1657\u001B[0m     \u001B[38;5;28;01mraise\u001B[39;00m \u001B[38;5;28mself\u001B[39m\u001B[38;5;241m.\u001B[39m_make_status_error_from_response(err\u001B[38;5;241m.\u001B[39mresponse) \u001B[38;5;28;01mfrom\u001B[39;00m\u001B[38;5;250m \u001B[39m\u001B[38;5;28;01mNone\u001B[39;00m\n\u001B[1;32m   1659\u001B[0m \u001B[38;5;28;01mreturn\u001B[39;00m \u001B[38;5;28;01mawait\u001B[39;00m \u001B[38;5;28mself\u001B[39m\u001B[38;5;241m.\u001B[39m_process_response(\n\u001B[1;32m   1660\u001B[0m     cast_to\u001B[38;5;241m=\u001B[39mcast_to,\n\u001B[1;32m   1661\u001B[0m     options\u001B[38;5;241m=\u001B[39moptions,\n\u001B[0;32m   (...)\u001B[0m\n\u001B[1;32m   1665\u001B[0m     retries_taken\u001B[38;5;241m=\u001B[39mretries_taken,\n\u001B[1;32m   1666\u001B[0m )\n",
      "\u001B[0;31mBadRequestError\u001B[0m: Error code: 400 - {'error': {'message': 'Timeout while downloading https://www.ebi.ac.uk/chebi/displayImage.do?defaultImage=true&imageIndex=0&chebiId=71980.', 'type': 'invalid_request_error', 'param': None, 'code': 'invalid_image_url'}}",
      "\nThe above exception was the direct cause of the following exception:\n",
      "\u001B[0;31mModelHTTPError\u001B[0m                            Traceback (most recent call last)",
      "Cell \u001B[0;32mIn[46], line 22\u001B[0m\n\u001B[1;32m     12\u001B[0m q \u001B[38;5;241m=\u001B[39m (\n\u001B[1;32m     13\u001B[0m     \u001B[38;5;124mf\u001B[39m\u001B[38;5;124m\"\u001B[39m\u001B[38;5;124mThis structure is classified in CHEBI as a \u001B[39m\u001B[38;5;132;01m{\u001B[39;00mc\u001B[38;5;132;01m}\u001B[39;00m\u001B[38;5;124m, yet it has \u001B[39m\u001B[38;5;132;01m{\u001B[39;00mcc\u001B[38;5;132;01m}\u001B[39;00m\u001B[38;5;124m carbons.\u001B[39m\u001B[38;5;124m\"\u001B[39m\n\u001B[1;32m     14\u001B[0m     \u001B[38;5;124mf\u001B[39m\u001B[38;5;124m\"\u001B[39m\u001B[38;5;124m Its formula is \u001B[39m\u001B[38;5;132;01m{\u001B[39;00mformula\u001B[38;5;132;01m}\u001B[39;00m\u001B[38;5;124m.\u001B[39m\u001B[38;5;124m\"\u001B[39m\n\u001B[1;32m     15\u001B[0m     \u001B[38;5;124mf\u001B[39m\u001B[38;5;124m\"\u001B[39m\u001B[38;5;124m And its name is \u001B[39m\u001B[38;5;132;01m{\u001B[39;00mstructure\u001B[38;5;241m.\u001B[39mname\u001B[38;5;132;01m}\u001B[39;00m\u001B[38;5;124m.\u001B[39m\u001B[38;5;124m\"\u001B[39m\n\u001B[1;32m     16\u001B[0m     \u001B[38;5;124mf\u001B[39m\u001B[38;5;124m\"\u001B[39m\u001B[38;5;124m Give the correct classification.\u001B[39m\u001B[38;5;124m\"\u001B[39m\n\u001B[1;32m     17\u001B[0m )\n\u001B[1;32m     18\u001B[0m q \u001B[38;5;241m=\u001B[39m \u001B[38;5;124mf\u001B[39m\u001B[38;5;124m\"\"\"\u001B[39m\u001B[38;5;124mWhat is the correct classification for this structure?\u001B[39m\n\u001B[1;32m     19\u001B[0m \u001B[38;5;124mI suspect it is a terpenoid, in one of the following categories:\u001B[39m\n\u001B[1;32m     20\u001B[0m \u001B[38;5;124m\u001B[39m\u001B[38;5;132;01m{\u001B[39;00m\u001B[38;5;124m\"\u001B[39m\u001B[38;5;124m, \u001B[39m\u001B[38;5;124m\"\u001B[39m\u001B[38;5;241m.\u001B[39mjoin(CLASSES\u001B[38;5;241m.\u001B[39mkeys())\u001B[38;5;132;01m}\u001B[39;00m\u001B[38;5;124m.\u001B[39m\n\u001B[1;32m     21\u001B[0m \u001B[38;5;124m\u001B[39m\u001B[38;5;124m\"\"\"\u001B[39m\n\u001B[0;32m---> 22\u001B[0m result \u001B[38;5;241m=\u001B[39m \u001B[43magent\u001B[49m\u001B[38;5;241;43m.\u001B[39;49m\u001B[43mrun_sync\u001B[49m\u001B[43m(\u001B[49m\u001B[43m[\u001B[49m\u001B[43mq\u001B[49m\u001B[43m,\u001B[49m\u001B[43m \u001B[49m\u001B[43mimg_url\u001B[49m\u001B[43m]\u001B[49m\u001B[43m)\u001B[49m\n\u001B[1;32m     23\u001B[0m agrees \u001B[38;5;241m=\u001B[39m result\u001B[38;5;241m.\u001B[39mdata\u001B[38;5;241m.\u001B[39mchemical_class\u001B[38;5;241m.\u001B[39mlower() \u001B[38;5;241m==\u001B[39m c\u001B[38;5;241m.\u001B[39mlower()\n\u001B[1;32m     24\u001B[0m \u001B[38;5;28mprint\u001B[39m(agrees, c, s, cc, formula)\n",
      "File \u001B[0;32m~/Library/Caches/pypoetry/virtualenvs/aurelian-JldJeJhF-py3.11/lib/python3.11/site-packages/pydantic_ai/agent.py:541\u001B[0m, in \u001B[0;36mAgent.run_sync\u001B[0;34m(self, user_prompt, result_type, message_history, model, deps, model_settings, usage_limits, usage, infer_name)\u001B[0m\n\u001B[1;32m    539\u001B[0m \u001B[38;5;28;01mif\u001B[39;00m infer_name \u001B[38;5;129;01mand\u001B[39;00m \u001B[38;5;28mself\u001B[39m\u001B[38;5;241m.\u001B[39mname \u001B[38;5;129;01mis\u001B[39;00m \u001B[38;5;28;01mNone\u001B[39;00m:\n\u001B[1;32m    540\u001B[0m     \u001B[38;5;28mself\u001B[39m\u001B[38;5;241m.\u001B[39m_infer_name(inspect\u001B[38;5;241m.\u001B[39mcurrentframe())\n\u001B[0;32m--> 541\u001B[0m \u001B[38;5;28;01mreturn\u001B[39;00m \u001B[43mget_event_loop\u001B[49m\u001B[43m(\u001B[49m\u001B[43m)\u001B[49m\u001B[38;5;241;43m.\u001B[39;49m\u001B[43mrun_until_complete\u001B[49m\u001B[43m(\u001B[49m\n\u001B[1;32m    542\u001B[0m \u001B[43m    \u001B[49m\u001B[38;5;28;43mself\u001B[39;49m\u001B[38;5;241;43m.\u001B[39;49m\u001B[43mrun\u001B[49m\u001B[43m(\u001B[49m\n\u001B[1;32m    543\u001B[0m \u001B[43m        \u001B[49m\u001B[43muser_prompt\u001B[49m\u001B[43m,\u001B[49m\n\u001B[1;32m    544\u001B[0m \u001B[43m        \u001B[49m\u001B[43mresult_type\u001B[49m\u001B[38;5;241;43m=\u001B[39;49m\u001B[43mresult_type\u001B[49m\u001B[43m,\u001B[49m\n\u001B[1;32m    545\u001B[0m \u001B[43m        \u001B[49m\u001B[43mmessage_history\u001B[49m\u001B[38;5;241;43m=\u001B[39;49m\u001B[43mmessage_history\u001B[49m\u001B[43m,\u001B[49m\n\u001B[1;32m    546\u001B[0m \u001B[43m        \u001B[49m\u001B[43mmodel\u001B[49m\u001B[38;5;241;43m=\u001B[39;49m\u001B[43mmodel\u001B[49m\u001B[43m,\u001B[49m\n\u001B[1;32m    547\u001B[0m \u001B[43m        \u001B[49m\u001B[43mdeps\u001B[49m\u001B[38;5;241;43m=\u001B[39;49m\u001B[43mdeps\u001B[49m\u001B[43m,\u001B[49m\n\u001B[1;32m    548\u001B[0m \u001B[43m        \u001B[49m\u001B[43mmodel_settings\u001B[49m\u001B[38;5;241;43m=\u001B[39;49m\u001B[43mmodel_settings\u001B[49m\u001B[43m,\u001B[49m\n\u001B[1;32m    549\u001B[0m \u001B[43m        \u001B[49m\u001B[43musage_limits\u001B[49m\u001B[38;5;241;43m=\u001B[39;49m\u001B[43musage_limits\u001B[49m\u001B[43m,\u001B[49m\n\u001B[1;32m    550\u001B[0m \u001B[43m        \u001B[49m\u001B[43musage\u001B[49m\u001B[38;5;241;43m=\u001B[39;49m\u001B[43musage\u001B[49m\u001B[43m,\u001B[49m\n\u001B[1;32m    551\u001B[0m \u001B[43m        \u001B[49m\u001B[43minfer_name\u001B[49m\u001B[38;5;241;43m=\u001B[39;49m\u001B[38;5;28;43;01mFalse\u001B[39;49;00m\u001B[43m,\u001B[49m\n\u001B[1;32m    552\u001B[0m \u001B[43m    \u001B[49m\u001B[43m)\u001B[49m\n\u001B[1;32m    553\u001B[0m \u001B[43m\u001B[49m\u001B[43m)\u001B[49m\n",
      "File \u001B[0;32m~/Library/Caches/pypoetry/virtualenvs/aurelian-JldJeJhF-py3.11/lib/python3.11/site-packages/nest_asyncio.py:98\u001B[0m, in \u001B[0;36m_patch_loop.<locals>.run_until_complete\u001B[0;34m(self, future)\u001B[0m\n\u001B[1;32m     95\u001B[0m \u001B[38;5;28;01mif\u001B[39;00m \u001B[38;5;129;01mnot\u001B[39;00m f\u001B[38;5;241m.\u001B[39mdone():\n\u001B[1;32m     96\u001B[0m     \u001B[38;5;28;01mraise\u001B[39;00m \u001B[38;5;167;01mRuntimeError\u001B[39;00m(\n\u001B[1;32m     97\u001B[0m         \u001B[38;5;124m'\u001B[39m\u001B[38;5;124mEvent loop stopped before Future completed.\u001B[39m\u001B[38;5;124m'\u001B[39m)\n\u001B[0;32m---> 98\u001B[0m \u001B[38;5;28;01mreturn\u001B[39;00m \u001B[43mf\u001B[49m\u001B[38;5;241;43m.\u001B[39;49m\u001B[43mresult\u001B[49m\u001B[43m(\u001B[49m\u001B[43m)\u001B[49m\n",
      "File \u001B[0;32m/opt/homebrew/Cellar/python@3.11/3.11.9/Frameworks/Python.framework/Versions/3.11/lib/python3.11/asyncio/futures.py:203\u001B[0m, in \u001B[0;36mFuture.result\u001B[0;34m(self)\u001B[0m\n\u001B[1;32m    201\u001B[0m \u001B[38;5;28mself\u001B[39m\u001B[38;5;241m.\u001B[39m__log_traceback \u001B[38;5;241m=\u001B[39m \u001B[38;5;28;01mFalse\u001B[39;00m\n\u001B[1;32m    202\u001B[0m \u001B[38;5;28;01mif\u001B[39;00m \u001B[38;5;28mself\u001B[39m\u001B[38;5;241m.\u001B[39m_exception \u001B[38;5;129;01mis\u001B[39;00m \u001B[38;5;129;01mnot\u001B[39;00m \u001B[38;5;28;01mNone\u001B[39;00m:\n\u001B[0;32m--> 203\u001B[0m     \u001B[38;5;28;01mraise\u001B[39;00m \u001B[38;5;28mself\u001B[39m\u001B[38;5;241m.\u001B[39m_exception\u001B[38;5;241m.\u001B[39mwith_traceback(\u001B[38;5;28mself\u001B[39m\u001B[38;5;241m.\u001B[39m_exception_tb)\n\u001B[1;32m    204\u001B[0m \u001B[38;5;28;01mreturn\u001B[39;00m \u001B[38;5;28mself\u001B[39m\u001B[38;5;241m.\u001B[39m_result\n",
      "File \u001B[0;32m/opt/homebrew/Cellar/python@3.11/3.11.9/Frameworks/Python.framework/Versions/3.11/lib/python3.11/asyncio/tasks.py:277\u001B[0m, in \u001B[0;36mTask.__step\u001B[0;34m(***failed resolving arguments***)\u001B[0m\n\u001B[1;32m    273\u001B[0m \u001B[38;5;28;01mtry\u001B[39;00m:\n\u001B[1;32m    274\u001B[0m     \u001B[38;5;28;01mif\u001B[39;00m exc \u001B[38;5;129;01mis\u001B[39;00m \u001B[38;5;28;01mNone\u001B[39;00m:\n\u001B[1;32m    275\u001B[0m         \u001B[38;5;66;03m# We use the `send` method directly, because coroutines\u001B[39;00m\n\u001B[1;32m    276\u001B[0m         \u001B[38;5;66;03m# don't have `__iter__` and `__next__` methods.\u001B[39;00m\n\u001B[0;32m--> 277\u001B[0m         result \u001B[38;5;241m=\u001B[39m coro\u001B[38;5;241m.\u001B[39msend(\u001B[38;5;28;01mNone\u001B[39;00m)\n\u001B[1;32m    278\u001B[0m     \u001B[38;5;28;01melse\u001B[39;00m:\n\u001B[1;32m    279\u001B[0m         result \u001B[38;5;241m=\u001B[39m coro\u001B[38;5;241m.\u001B[39mthrow(exc)\n",
      "File \u001B[0;32m~/Library/Caches/pypoetry/virtualenvs/aurelian-JldJeJhF-py3.11/lib/python3.11/site-packages/pydantic_ai/agent.py:307\u001B[0m, in \u001B[0;36mAgent.run\u001B[0;34m(self, user_prompt, result_type, message_history, model, deps, model_settings, usage_limits, usage, infer_name)\u001B[0m\n\u001B[1;32m    296\u001B[0m     \u001B[38;5;28mself\u001B[39m\u001B[38;5;241m.\u001B[39m_infer_name(inspect\u001B[38;5;241m.\u001B[39mcurrentframe())\n\u001B[1;32m    297\u001B[0m \u001B[38;5;28;01mwith\u001B[39;00m \u001B[38;5;28mself\u001B[39m\u001B[38;5;241m.\u001B[39miter(\n\u001B[1;32m    298\u001B[0m     user_prompt\u001B[38;5;241m=\u001B[39muser_prompt,\n\u001B[1;32m    299\u001B[0m     result_type\u001B[38;5;241m=\u001B[39mresult_type,\n\u001B[0;32m   (...)\u001B[0m\n\u001B[1;32m    305\u001B[0m     usage\u001B[38;5;241m=\u001B[39musage,\n\u001B[1;32m    306\u001B[0m ) \u001B[38;5;28;01mas\u001B[39;00m agent_run:\n\u001B[0;32m--> 307\u001B[0m     \u001B[38;5;28;01masync\u001B[39;00m \u001B[38;5;28;01mfor\u001B[39;00m _ \u001B[38;5;129;01min\u001B[39;00m agent_run:\n\u001B[1;32m    308\u001B[0m         \u001B[38;5;28;01mpass\u001B[39;00m\n\u001B[1;32m    310\u001B[0m \u001B[38;5;28;01massert\u001B[39;00m (final_result \u001B[38;5;241m:=\u001B[39m agent_run\u001B[38;5;241m.\u001B[39mresult) \u001B[38;5;129;01mis\u001B[39;00m \u001B[38;5;129;01mnot\u001B[39;00m \u001B[38;5;28;01mNone\u001B[39;00m, \u001B[38;5;124m'\u001B[39m\u001B[38;5;124mThe graph run did not finish properly\u001B[39m\u001B[38;5;124m'\u001B[39m\n",
      "File \u001B[0;32m~/Library/Caches/pypoetry/virtualenvs/aurelian-JldJeJhF-py3.11/lib/python3.11/site-packages/pydantic_ai/agent.py:1298\u001B[0m, in \u001B[0;36mAgentRun.__anext__\u001B[0;34m(self)\u001B[0m\n\u001B[1;32m   1287\u001B[0m \u001B[38;5;28;01masync\u001B[39;00m \u001B[38;5;28;01mdef\u001B[39;00m\u001B[38;5;250m \u001B[39m\u001B[38;5;21m__anext__\u001B[39m(\n\u001B[1;32m   1288\u001B[0m     \u001B[38;5;28mself\u001B[39m,\n\u001B[1;32m   1289\u001B[0m ) \u001B[38;5;241m-\u001B[39m\u001B[38;5;241m>\u001B[39m (\n\u001B[0;32m   (...)\u001B[0m\n\u001B[1;32m   1295\u001B[0m     \u001B[38;5;241m|\u001B[39m End[FinalResult[ResultDataT]]\n\u001B[1;32m   1296\u001B[0m ):\n\u001B[1;32m   1297\u001B[0m \u001B[38;5;250m    \u001B[39m\u001B[38;5;124;03m\"\"\"Advance to the next node automatically based on the last returned node.\"\"\"\u001B[39;00m\n\u001B[0;32m-> 1298\u001B[0m     \u001B[38;5;28;01mreturn\u001B[39;00m \u001B[38;5;28;01mawait\u001B[39;00m \u001B[38;5;28mself\u001B[39m\u001B[38;5;241m.\u001B[39m_graph_run\u001B[38;5;241m.\u001B[39m\u001B[38;5;21m__anext__\u001B[39m()\n",
      "File \u001B[0;32m~/Library/Caches/pypoetry/virtualenvs/aurelian-JldJeJhF-py3.11/lib/python3.11/site-packages/pydantic_graph/graph.py:737\u001B[0m, in \u001B[0;36mGraphRun.__anext__\u001B[0;34m(self)\u001B[0m\n\u001B[1;32m    735\u001B[0m \u001B[38;5;28;01mif\u001B[39;00m \u001B[38;5;28misinstance\u001B[39m(\u001B[38;5;28mself\u001B[39m\u001B[38;5;241m.\u001B[39m_next_node, End):\n\u001B[1;32m    736\u001B[0m     \u001B[38;5;28;01mraise\u001B[39;00m \u001B[38;5;167;01mStopAsyncIteration\u001B[39;00m\n\u001B[0;32m--> 737\u001B[0m \u001B[38;5;28;01mreturn\u001B[39;00m \u001B[38;5;28;01mawait\u001B[39;00m \u001B[38;5;28mself\u001B[39m\u001B[38;5;241m.\u001B[39mnext(\u001B[38;5;28mself\u001B[39m\u001B[38;5;241m.\u001B[39m_next_node)\n",
      "File \u001B[0;32m~/Library/Caches/pypoetry/virtualenvs/aurelian-JldJeJhF-py3.11/lib/python3.11/site-packages/pydantic_graph/graph.py:726\u001B[0m, in \u001B[0;36mGraphRun.next\u001B[0;34m(self, node)\u001B[0m\n\u001B[1;32m    723\u001B[0m state \u001B[38;5;241m=\u001B[39m \u001B[38;5;28mself\u001B[39m\u001B[38;5;241m.\u001B[39mstate\n\u001B[1;32m    724\u001B[0m deps \u001B[38;5;241m=\u001B[39m \u001B[38;5;28mself\u001B[39m\u001B[38;5;241m.\u001B[39mdeps\n\u001B[0;32m--> 726\u001B[0m \u001B[38;5;28mself\u001B[39m\u001B[38;5;241m.\u001B[39m_next_node \u001B[38;5;241m=\u001B[39m \u001B[38;5;28;01mawait\u001B[39;00m \u001B[38;5;28mself\u001B[39m\u001B[38;5;241m.\u001B[39mgraph\u001B[38;5;241m.\u001B[39mnext(node, history, state\u001B[38;5;241m=\u001B[39mstate, deps\u001B[38;5;241m=\u001B[39mdeps, infer_name\u001B[38;5;241m=\u001B[39m\u001B[38;5;28;01mFalse\u001B[39;00m)\n\u001B[1;32m    728\u001B[0m \u001B[38;5;28;01mreturn\u001B[39;00m \u001B[38;5;28mself\u001B[39m\u001B[38;5;241m.\u001B[39m_next_node\n",
      "File \u001B[0;32m~/Library/Caches/pypoetry/virtualenvs/aurelian-JldJeJhF-py3.11/lib/python3.11/site-packages/pydantic_graph/graph.py:305\u001B[0m, in \u001B[0;36mGraph.next\u001B[0;34m(self, node, history, state, deps, infer_name)\u001B[0m\n\u001B[1;32m    303\u001B[0m     start_ts \u001B[38;5;241m=\u001B[39m _utils\u001B[38;5;241m.\u001B[39mnow_utc()\n\u001B[1;32m    304\u001B[0m     start \u001B[38;5;241m=\u001B[39m perf_counter()\n\u001B[0;32m--> 305\u001B[0m     next_node \u001B[38;5;241m=\u001B[39m \u001B[38;5;28;01mawait\u001B[39;00m node\u001B[38;5;241m.\u001B[39mrun(ctx)\n\u001B[1;32m    306\u001B[0m     duration \u001B[38;5;241m=\u001B[39m perf_counter() \u001B[38;5;241m-\u001B[39m start\n\u001B[1;32m    308\u001B[0m history\u001B[38;5;241m.\u001B[39mappend(\n\u001B[1;32m    309\u001B[0m     NodeStep(state\u001B[38;5;241m=\u001B[39mstate, node\u001B[38;5;241m=\u001B[39mnode, start_ts\u001B[38;5;241m=\u001B[39mstart_ts, duration\u001B[38;5;241m=\u001B[39mduration, snapshot_state\u001B[38;5;241m=\u001B[39m\u001B[38;5;28mself\u001B[39m\u001B[38;5;241m.\u001B[39msnapshot_state)\n\u001B[1;32m    310\u001B[0m )\n",
      "File \u001B[0;32m~/Library/Caches/pypoetry/virtualenvs/aurelian-JldJeJhF-py3.11/lib/python3.11/site-packages/pydantic_ai/_agent_graph.py:237\u001B[0m, in \u001B[0;36mModelRequestNode.run\u001B[0;34m(self, ctx)\u001B[0m\n\u001B[1;32m    232\u001B[0m \u001B[38;5;28;01mif\u001B[39;00m \u001B[38;5;28mself\u001B[39m\u001B[38;5;241m.\u001B[39m_did_stream:\n\u001B[1;32m    233\u001B[0m     \u001B[38;5;66;03m# `self._result` gets set when exiting the `stream` contextmanager, so hitting this\u001B[39;00m\n\u001B[1;32m    234\u001B[0m     \u001B[38;5;66;03m# means that the stream was started but not finished before `run()` was called\u001B[39;00m\n\u001B[1;32m    235\u001B[0m     \u001B[38;5;28;01mraise\u001B[39;00m exceptions\u001B[38;5;241m.\u001B[39mAgentRunError(\u001B[38;5;124m'\u001B[39m\u001B[38;5;124mYou must finish streaming before calling run()\u001B[39m\u001B[38;5;124m'\u001B[39m)\n\u001B[0;32m--> 237\u001B[0m \u001B[38;5;28;01mreturn\u001B[39;00m \u001B[38;5;28;01mawait\u001B[39;00m \u001B[38;5;28mself\u001B[39m\u001B[38;5;241m.\u001B[39m_make_request(ctx)\n",
      "File \u001B[0;32m~/Library/Caches/pypoetry/virtualenvs/aurelian-JldJeJhF-py3.11/lib/python3.11/site-packages/pydantic_ai/_agent_graph.py:275\u001B[0m, in \u001B[0;36mModelRequestNode._make_request\u001B[0;34m(self, ctx)\u001B[0m\n\u001B[1;32m    273\u001B[0m model_settings, model_request_parameters \u001B[38;5;241m=\u001B[39m \u001B[38;5;28;01mawait\u001B[39;00m \u001B[38;5;28mself\u001B[39m\u001B[38;5;241m.\u001B[39m_prepare_request(ctx)\n\u001B[1;32m    274\u001B[0m \u001B[38;5;28;01mwith\u001B[39;00m _logfire\u001B[38;5;241m.\u001B[39mspan(\u001B[38;5;124m'\u001B[39m\u001B[38;5;124mmodel request\u001B[39m\u001B[38;5;124m'\u001B[39m, run_step\u001B[38;5;241m=\u001B[39mctx\u001B[38;5;241m.\u001B[39mstate\u001B[38;5;241m.\u001B[39mrun_step) \u001B[38;5;28;01mas\u001B[39;00m span:\n\u001B[0;32m--> 275\u001B[0m     model_response, request_usage \u001B[38;5;241m=\u001B[39m \u001B[38;5;28;01mawait\u001B[39;00m ctx\u001B[38;5;241m.\u001B[39mdeps\u001B[38;5;241m.\u001B[39mmodel\u001B[38;5;241m.\u001B[39mrequest(\n\u001B[1;32m    276\u001B[0m         ctx\u001B[38;5;241m.\u001B[39mstate\u001B[38;5;241m.\u001B[39mmessage_history, model_settings, model_request_parameters\n\u001B[1;32m    277\u001B[0m     )\n\u001B[1;32m    278\u001B[0m     ctx\u001B[38;5;241m.\u001B[39mstate\u001B[38;5;241m.\u001B[39musage\u001B[38;5;241m.\u001B[39mincr(_usage\u001B[38;5;241m.\u001B[39mUsage(), requests\u001B[38;5;241m=\u001B[39m\u001B[38;5;241m1\u001B[39m)\n\u001B[1;32m    279\u001B[0m     span\u001B[38;5;241m.\u001B[39mset_attribute(\u001B[38;5;124m'\u001B[39m\u001B[38;5;124mresponse\u001B[39m\u001B[38;5;124m'\u001B[39m, model_response)\n",
      "File \u001B[0;32m~/Library/Caches/pypoetry/virtualenvs/aurelian-JldJeJhF-py3.11/lib/python3.11/site-packages/pydantic_ai/models/openai.py:156\u001B[0m, in \u001B[0;36mOpenAIModel.request\u001B[0;34m(self, messages, model_settings, model_request_parameters)\u001B[0m\n\u001B[1;32m    149\u001B[0m \u001B[38;5;28;01masync\u001B[39;00m \u001B[38;5;28;01mdef\u001B[39;00m\u001B[38;5;250m \u001B[39m\u001B[38;5;21mrequest\u001B[39m(\n\u001B[1;32m    150\u001B[0m     \u001B[38;5;28mself\u001B[39m,\n\u001B[1;32m    151\u001B[0m     messages: \u001B[38;5;28mlist\u001B[39m[ModelMessage],\n\u001B[1;32m    152\u001B[0m     model_settings: ModelSettings \u001B[38;5;241m|\u001B[39m \u001B[38;5;28;01mNone\u001B[39;00m,\n\u001B[1;32m    153\u001B[0m     model_request_parameters: ModelRequestParameters,\n\u001B[1;32m    154\u001B[0m ) \u001B[38;5;241m-\u001B[39m\u001B[38;5;241m>\u001B[39m \u001B[38;5;28mtuple\u001B[39m[ModelResponse, usage\u001B[38;5;241m.\u001B[39mUsage]:\n\u001B[1;32m    155\u001B[0m     check_allow_model_requests()\n\u001B[0;32m--> 156\u001B[0m     response \u001B[38;5;241m=\u001B[39m \u001B[38;5;28;01mawait\u001B[39;00m \u001B[38;5;28mself\u001B[39m\u001B[38;5;241m.\u001B[39m_completions_create(\n\u001B[1;32m    157\u001B[0m         messages, \u001B[38;5;28;01mFalse\u001B[39;00m, cast(OpenAIModelSettings, model_settings \u001B[38;5;129;01mor\u001B[39;00m {}), model_request_parameters\n\u001B[1;32m    158\u001B[0m     )\n\u001B[1;32m    159\u001B[0m     \u001B[38;5;28;01mreturn\u001B[39;00m \u001B[38;5;28mself\u001B[39m\u001B[38;5;241m.\u001B[39m_process_response(response), _map_usage(response)\n",
      "File \u001B[0;32m~/Library/Caches/pypoetry/virtualenvs/aurelian-JldJeJhF-py3.11/lib/python3.11/site-packages/pydantic_ai/models/openai.py:249\u001B[0m, in \u001B[0;36mOpenAIModel._completions_create\u001B[0;34m(self, messages, stream, model_settings, model_request_parameters)\u001B[0m\n\u001B[1;32m    247\u001B[0m \u001B[38;5;28;01mexcept\u001B[39;00m APIStatusError \u001B[38;5;28;01mas\u001B[39;00m e:\n\u001B[1;32m    248\u001B[0m     \u001B[38;5;28;01mif\u001B[39;00m (status_code \u001B[38;5;241m:=\u001B[39m e\u001B[38;5;241m.\u001B[39mstatus_code) \u001B[38;5;241m>\u001B[39m\u001B[38;5;241m=\u001B[39m \u001B[38;5;241m400\u001B[39m:\n\u001B[0;32m--> 249\u001B[0m         \u001B[38;5;28;01mraise\u001B[39;00m ModelHTTPError(status_code\u001B[38;5;241m=\u001B[39mstatus_code, model_name\u001B[38;5;241m=\u001B[39m\u001B[38;5;28mself\u001B[39m\u001B[38;5;241m.\u001B[39mmodel_name, body\u001B[38;5;241m=\u001B[39me\u001B[38;5;241m.\u001B[39mbody) \u001B[38;5;28;01mfrom\u001B[39;00m\u001B[38;5;250m \u001B[39m\u001B[38;5;21;01me\u001B[39;00m\n\u001B[1;32m    250\u001B[0m     \u001B[38;5;28;01mraise\u001B[39;00m\n",
      "\u001B[0;31mModelHTTPError\u001B[0m: status_code: 400, model_name: gpt-4o, body: {'message': 'Timeout while downloading https://www.ebi.ac.uk/chebi/displayImage.do?defaultImage=true&imageIndex=0&chebiId=71980.', 'type': 'invalid_request_error', 'param': None, 'code': 'invalid_image_url'}"
     ]
    }
   ],
   "execution_count": 46
  },
  {
   "metadata": {
    "ExecuteTime": {
     "end_time": "2025-02-28T14:08:30.561224Z",
     "start_time": "2025-02-28T14:08:30.559205Z"
    }
   },
   "cell_type": "code",
   "source": "print(\"Done\")",
   "id": "4b446ff49dd59be6",
   "outputs": [
    {
     "name": "stdout",
     "output_type": "stream",
     "text": [
      "Done\n"
     ]
    }
   ],
   "execution_count": 47
  },
  {
   "metadata": {
    "ExecuteTime": {
     "end_time": "2025-02-28T14:08:32.419501Z",
     "start_time": "2025-02-28T14:08:32.417121Z"
    }
   },
   "cell_type": "code",
   "source": "len([r for r in results if r[0]])",
   "id": "514bc23356fc0e96",
   "outputs": [
    {
     "data": {
      "text/plain": [
       "43"
      ]
     },
     "execution_count": 48,
     "metadata": {},
     "output_type": "execute_result"
    }
   ],
   "execution_count": 48
  },
  {
   "metadata": {
    "ExecuteTime": {
     "end_time": "2025-02-28T14:08:36.137539Z",
     "start_time": "2025-02-28T14:08:36.135524Z"
    }
   },
   "cell_type": "code",
   "source": "import pandas as pd",
   "id": "f9c6e4dc1ce1103a",
   "outputs": [],
   "execution_count": 49
  },
  {
   "metadata": {
    "ExecuteTime": {
     "end_time": "2025-02-28T14:08:38.120166Z",
     "start_time": "2025-02-28T14:08:38.117917Z"
    }
   },
   "cell_type": "code",
   "source": "df = pd.DataFrame(results, columns=[\"agrees\", \"expected\", \"structure\", \"question\", \"result\"])",
   "id": "8f130a3dee80e1e0",
   "outputs": [],
   "execution_count": 50
  },
  {
   "metadata": {
    "ExecuteTime": {
     "end_time": "2025-02-28T14:08:52.229769Z",
     "start_time": "2025-02-28T14:08:52.225500Z"
    }
   },
   "cell_type": "code",
   "source": "df",
   "id": "957c8b166083afbb",
   "outputs": [
    {
     "data": {
      "text/plain": [
       "     agrees      expected    structure  \\\n",
       "0      True  triterpenoid   CHEBI:9771   \n",
       "1      True  triterpenoid   CHEBI:9110   \n",
       "2      True  triterpenoid  CHEBI:74453   \n",
       "3      True  triterpenoid  CHEBI:74448   \n",
       "4      True  triterpenoid  CHEBI:69373   \n",
       "..      ...           ...          ...   \n",
       "102   False   diterpenoid   CHEBI:8046   \n",
       "103   False   diterpenoid  CHEBI:80196   \n",
       "104   False   diterpenoid  CHEBI:80117   \n",
       "105   False   diterpenoid  CHEBI:79068   \n",
       "106    True   diterpenoid  CHEBI:74030   \n",
       "\n",
       "                                              question  \\\n",
       "0    What is the correct classification for this st...   \n",
       "1    What is the correct classification for this st...   \n",
       "2    What is the correct classification for this st...   \n",
       "3    What is the correct classification for this st...   \n",
       "4    What is the correct classification for this st...   \n",
       "..                                                 ...   \n",
       "102  What is the correct classification for this st...   \n",
       "103  What is the correct classification for this st...   \n",
       "104  What is the correct classification for this st...   \n",
       "105  What is the correct classification for this st...   \n",
       "106  What is the correct classification for this st...   \n",
       "\n",
       "                                                result  \n",
       "0    AgentRunResult(data=Classification(chemical_cl...  \n",
       "1    AgentRunResult(data=Classification(chemical_cl...  \n",
       "2    AgentRunResult(data=Classification(chemical_cl...  \n",
       "3    AgentRunResult(data=Classification(chemical_cl...  \n",
       "4    AgentRunResult(data=Classification(chemical_cl...  \n",
       "..                                                 ...  \n",
       "102  AgentRunResult(data=Classification(chemical_cl...  \n",
       "103  AgentRunResult(data=Classification(chemical_cl...  \n",
       "104  AgentRunResult(data=Classification(chemical_cl...  \n",
       "105  AgentRunResult(data=Classification(chemical_cl...  \n",
       "106  AgentRunResult(data=Classification(chemical_cl...  \n",
       "\n",
       "[107 rows x 5 columns]"
      ],
      "text/html": [
       "<div>\n",
       "<style scoped>\n",
       "    .dataframe tbody tr th:only-of-type {\n",
       "        vertical-align: middle;\n",
       "    }\n",
       "\n",
       "    .dataframe tbody tr th {\n",
       "        vertical-align: top;\n",
       "    }\n",
       "\n",
       "    .dataframe thead th {\n",
       "        text-align: right;\n",
       "    }\n",
       "</style>\n",
       "<table border=\"1\" class=\"dataframe\">\n",
       "  <thead>\n",
       "    <tr style=\"text-align: right;\">\n",
       "      <th></th>\n",
       "      <th>agrees</th>\n",
       "      <th>expected</th>\n",
       "      <th>structure</th>\n",
       "      <th>question</th>\n",
       "      <th>result</th>\n",
       "    </tr>\n",
       "  </thead>\n",
       "  <tbody>\n",
       "    <tr>\n",
       "      <th>0</th>\n",
       "      <td>True</td>\n",
       "      <td>triterpenoid</td>\n",
       "      <td>CHEBI:9771</td>\n",
       "      <td>What is the correct classification for this st...</td>\n",
       "      <td>AgentRunResult(data=Classification(chemical_cl...</td>\n",
       "    </tr>\n",
       "    <tr>\n",
       "      <th>1</th>\n",
       "      <td>True</td>\n",
       "      <td>triterpenoid</td>\n",
       "      <td>CHEBI:9110</td>\n",
       "      <td>What is the correct classification for this st...</td>\n",
       "      <td>AgentRunResult(data=Classification(chemical_cl...</td>\n",
       "    </tr>\n",
       "    <tr>\n",
       "      <th>2</th>\n",
       "      <td>True</td>\n",
       "      <td>triterpenoid</td>\n",
       "      <td>CHEBI:74453</td>\n",
       "      <td>What is the correct classification for this st...</td>\n",
       "      <td>AgentRunResult(data=Classification(chemical_cl...</td>\n",
       "    </tr>\n",
       "    <tr>\n",
       "      <th>3</th>\n",
       "      <td>True</td>\n",
       "      <td>triterpenoid</td>\n",
       "      <td>CHEBI:74448</td>\n",
       "      <td>What is the correct classification for this st...</td>\n",
       "      <td>AgentRunResult(data=Classification(chemical_cl...</td>\n",
       "    </tr>\n",
       "    <tr>\n",
       "      <th>4</th>\n",
       "      <td>True</td>\n",
       "      <td>triterpenoid</td>\n",
       "      <td>CHEBI:69373</td>\n",
       "      <td>What is the correct classification for this st...</td>\n",
       "      <td>AgentRunResult(data=Classification(chemical_cl...</td>\n",
       "    </tr>\n",
       "    <tr>\n",
       "      <th>...</th>\n",
       "      <td>...</td>\n",
       "      <td>...</td>\n",
       "      <td>...</td>\n",
       "      <td>...</td>\n",
       "      <td>...</td>\n",
       "    </tr>\n",
       "    <tr>\n",
       "      <th>102</th>\n",
       "      <td>False</td>\n",
       "      <td>diterpenoid</td>\n",
       "      <td>CHEBI:8046</td>\n",
       "      <td>What is the correct classification for this st...</td>\n",
       "      <td>AgentRunResult(data=Classification(chemical_cl...</td>\n",
       "    </tr>\n",
       "    <tr>\n",
       "      <th>103</th>\n",
       "      <td>False</td>\n",
       "      <td>diterpenoid</td>\n",
       "      <td>CHEBI:80196</td>\n",
       "      <td>What is the correct classification for this st...</td>\n",
       "      <td>AgentRunResult(data=Classification(chemical_cl...</td>\n",
       "    </tr>\n",
       "    <tr>\n",
       "      <th>104</th>\n",
       "      <td>False</td>\n",
       "      <td>diterpenoid</td>\n",
       "      <td>CHEBI:80117</td>\n",
       "      <td>What is the correct classification for this st...</td>\n",
       "      <td>AgentRunResult(data=Classification(chemical_cl...</td>\n",
       "    </tr>\n",
       "    <tr>\n",
       "      <th>105</th>\n",
       "      <td>False</td>\n",
       "      <td>diterpenoid</td>\n",
       "      <td>CHEBI:79068</td>\n",
       "      <td>What is the correct classification for this st...</td>\n",
       "      <td>AgentRunResult(data=Classification(chemical_cl...</td>\n",
       "    </tr>\n",
       "    <tr>\n",
       "      <th>106</th>\n",
       "      <td>True</td>\n",
       "      <td>diterpenoid</td>\n",
       "      <td>CHEBI:74030</td>\n",
       "      <td>What is the correct classification for this st...</td>\n",
       "      <td>AgentRunResult(data=Classification(chemical_cl...</td>\n",
       "    </tr>\n",
       "  </tbody>\n",
       "</table>\n",
       "<p>107 rows × 5 columns</p>\n",
       "</div>"
      ]
     },
     "execution_count": 52,
     "metadata": {},
     "output_type": "execute_result"
    }
   ],
   "execution_count": 52
  },
  {
   "metadata": {
    "ExecuteTime": {
     "end_time": "2025-02-28T14:08:52.887834Z",
     "start_time": "2025-02-28T14:08:52.885536Z"
    }
   },
   "cell_type": "code",
   "source": [
    "IMG_URL_TMPL = \"https://www.ebi.ac.uk/chebi/displayImage.do?defaultImage=true&imageIndex=0&chebiId={n}\"\n",
    "\n",
    "\n",
    "def img_url(chebi_id: str) -> str:\n",
    "    url = IMG_URL_TMPL.format(n=chebi_id.replace(\"CHEBI:\", \"\"))\n",
    "    return f'<img src=\"{url}\" width=\"120\" style=\"max-height: 100px; object-fit: contain; display: block; margin: auto;\" onerror=\"this.style.display=\\'none\\';\"/>'\n",
    "\n",
    "\n",
    "def cell_div(text: str, img: str) -> str:\n",
    "    return f'''\n",
    "        <div style=\"display: flex; flex-direction: column; align-items: center; text-align: center;\">\n",
    "            <span style=\"font-size: 12px; margin-bottom: 5px;\">{text}</span>\n",
    "            {img}\n",
    "        </div>\n",
    "        '''\n",
    "\n",
    "def cell_from_row(row):\n",
    "    return cell_div(chebi.label(row[\"structure\"]), img_url(row[\"structure\"]))"
   ],
   "id": "2d48176bddc25acd",
   "outputs": [],
   "execution_count": 53
  },
  {
   "metadata": {
    "ExecuteTime": {
     "end_time": "2025-02-28T14:08:53.720251Z",
     "start_time": "2025-02-28T14:08:53.706970Z"
    }
   },
   "cell_type": "code",
   "source": "df[\"img\"] = df.apply(cell_from_row, axis=1)",
   "id": "a465b0a6c9caac1e",
   "outputs": [],
   "execution_count": 54
  },
  {
   "metadata": {
    "ExecuteTime": {
     "end_time": "2025-02-28T14:08:54.294074Z",
     "start_time": "2025-02-28T14:08:54.291572Z"
    }
   },
   "cell_type": "code",
   "source": [
    "df[\"llm_classification\"] = df[\"result\"].apply(lambda r: r.data.chemical_class)\n",
    "df[\"llm_explanation\"] = df[\"result\"].apply(lambda r: r.data.explanation)"
   ],
   "id": "53ab11f4676876a1",
   "outputs": [],
   "execution_count": 55
  },
  {
   "metadata": {
    "ExecuteTime": {
     "end_time": "2025-02-28T14:08:54.945306Z",
     "start_time": "2025-02-28T14:08:54.940584Z"
    }
   },
   "cell_type": "code",
   "source": "df",
   "id": "67ec2c4170ba11b3",
   "outputs": [
    {
     "data": {
      "text/plain": [
       "     agrees      expected    structure  \\\n",
       "0      True  triterpenoid   CHEBI:9771   \n",
       "1      True  triterpenoid   CHEBI:9110   \n",
       "2      True  triterpenoid  CHEBI:74453   \n",
       "3      True  triterpenoid  CHEBI:74448   \n",
       "4      True  triterpenoid  CHEBI:69373   \n",
       "..      ...           ...          ...   \n",
       "102   False   diterpenoid   CHEBI:8046   \n",
       "103   False   diterpenoid  CHEBI:80196   \n",
       "104   False   diterpenoid  CHEBI:80117   \n",
       "105   False   diterpenoid  CHEBI:79068   \n",
       "106    True   diterpenoid  CHEBI:74030   \n",
       "\n",
       "                                              question  \\\n",
       "0    What is the correct classification for this st...   \n",
       "1    What is the correct classification for this st...   \n",
       "2    What is the correct classification for this st...   \n",
       "3    What is the correct classification for this st...   \n",
       "4    What is the correct classification for this st...   \n",
       "..                                                 ...   \n",
       "102  What is the correct classification for this st...   \n",
       "103  What is the correct classification for this st...   \n",
       "104  What is the correct classification for this st...   \n",
       "105  What is the correct classification for this st...   \n",
       "106  What is the correct classification for this st...   \n",
       "\n",
       "                                                result  \\\n",
       "0    AgentRunResult(data=Classification(chemical_cl...   \n",
       "1    AgentRunResult(data=Classification(chemical_cl...   \n",
       "2    AgentRunResult(data=Classification(chemical_cl...   \n",
       "3    AgentRunResult(data=Classification(chemical_cl...   \n",
       "4    AgentRunResult(data=Classification(chemical_cl...   \n",
       "..                                                 ...   \n",
       "102  AgentRunResult(data=Classification(chemical_cl...   \n",
       "103  AgentRunResult(data=Classification(chemical_cl...   \n",
       "104  AgentRunResult(data=Classification(chemical_cl...   \n",
       "105  AgentRunResult(data=Classification(chemical_cl...   \n",
       "106  AgentRunResult(data=Classification(chemical_cl...   \n",
       "\n",
       "                                                   img llm_classification  \\\n",
       "0    \\n        <div style=\"display: flex; flex-dire...       triterpenoid   \n",
       "1    \\n        <div style=\"display: flex; flex-dire...       triterpenoid   \n",
       "2    \\n        <div style=\"display: flex; flex-dire...       triterpenoid   \n",
       "3    \\n        <div style=\"display: flex; flex-dire...       triterpenoid   \n",
       "4    \\n        <div style=\"display: flex; flex-dire...       triterpenoid   \n",
       "..                                                 ...                ...   \n",
       "102  \\n        <div style=\"display: flex; flex-dire...       triterpenoid   \n",
       "103  \\n        <div style=\"display: flex; flex-dire...              other   \n",
       "104  \\n        <div style=\"display: flex; flex-dire...       triterpenoid   \n",
       "105  \\n        <div style=\"display: flex; flex-dire...              other   \n",
       "106  \\n        <div style=\"display: flex; flex-dire...        diterpenoid   \n",
       "\n",
       "                                       llm_explanation  \n",
       "0    The chemical structure in the image shows a la...  \n",
       "1    The structure displayed consists of 30 carbon ...  \n",
       "2    The structure displayed contains a series of s...  \n",
       "3    This chemical structure can be classified as a...  \n",
       "4    The structure provided is quite complex, featu...  \n",
       "..                                                 ...  \n",
       "102  The structure in the image is a complex molecu...  \n",
       "103  The structure in the image is of beta-carotene...  \n",
       "104  The structure is a large molecule consisting o...  \n",
       "105  The structure shown is not a typical terpenoid...  \n",
       "106  The chemical structure displayed contains four...  \n",
       "\n",
       "[107 rows x 8 columns]"
      ],
      "text/html": [
       "<div>\n",
       "<style scoped>\n",
       "    .dataframe tbody tr th:only-of-type {\n",
       "        vertical-align: middle;\n",
       "    }\n",
       "\n",
       "    .dataframe tbody tr th {\n",
       "        vertical-align: top;\n",
       "    }\n",
       "\n",
       "    .dataframe thead th {\n",
       "        text-align: right;\n",
       "    }\n",
       "</style>\n",
       "<table border=\"1\" class=\"dataframe\">\n",
       "  <thead>\n",
       "    <tr style=\"text-align: right;\">\n",
       "      <th></th>\n",
       "      <th>agrees</th>\n",
       "      <th>expected</th>\n",
       "      <th>structure</th>\n",
       "      <th>question</th>\n",
       "      <th>result</th>\n",
       "      <th>img</th>\n",
       "      <th>llm_classification</th>\n",
       "      <th>llm_explanation</th>\n",
       "    </tr>\n",
       "  </thead>\n",
       "  <tbody>\n",
       "    <tr>\n",
       "      <th>0</th>\n",
       "      <td>True</td>\n",
       "      <td>triterpenoid</td>\n",
       "      <td>CHEBI:9771</td>\n",
       "      <td>What is the correct classification for this st...</td>\n",
       "      <td>AgentRunResult(data=Classification(chemical_cl...</td>\n",
       "      <td>\\n        &lt;div style=\"display: flex; flex-dire...</td>\n",
       "      <td>triterpenoid</td>\n",
       "      <td>The chemical structure in the image shows a la...</td>\n",
       "    </tr>\n",
       "    <tr>\n",
       "      <th>1</th>\n",
       "      <td>True</td>\n",
       "      <td>triterpenoid</td>\n",
       "      <td>CHEBI:9110</td>\n",
       "      <td>What is the correct classification for this st...</td>\n",
       "      <td>AgentRunResult(data=Classification(chemical_cl...</td>\n",
       "      <td>\\n        &lt;div style=\"display: flex; flex-dire...</td>\n",
       "      <td>triterpenoid</td>\n",
       "      <td>The structure displayed consists of 30 carbon ...</td>\n",
       "    </tr>\n",
       "    <tr>\n",
       "      <th>2</th>\n",
       "      <td>True</td>\n",
       "      <td>triterpenoid</td>\n",
       "      <td>CHEBI:74453</td>\n",
       "      <td>What is the correct classification for this st...</td>\n",
       "      <td>AgentRunResult(data=Classification(chemical_cl...</td>\n",
       "      <td>\\n        &lt;div style=\"display: flex; flex-dire...</td>\n",
       "      <td>triterpenoid</td>\n",
       "      <td>The structure displayed contains a series of s...</td>\n",
       "    </tr>\n",
       "    <tr>\n",
       "      <th>3</th>\n",
       "      <td>True</td>\n",
       "      <td>triterpenoid</td>\n",
       "      <td>CHEBI:74448</td>\n",
       "      <td>What is the correct classification for this st...</td>\n",
       "      <td>AgentRunResult(data=Classification(chemical_cl...</td>\n",
       "      <td>\\n        &lt;div style=\"display: flex; flex-dire...</td>\n",
       "      <td>triterpenoid</td>\n",
       "      <td>This chemical structure can be classified as a...</td>\n",
       "    </tr>\n",
       "    <tr>\n",
       "      <th>4</th>\n",
       "      <td>True</td>\n",
       "      <td>triterpenoid</td>\n",
       "      <td>CHEBI:69373</td>\n",
       "      <td>What is the correct classification for this st...</td>\n",
       "      <td>AgentRunResult(data=Classification(chemical_cl...</td>\n",
       "      <td>\\n        &lt;div style=\"display: flex; flex-dire...</td>\n",
       "      <td>triterpenoid</td>\n",
       "      <td>The structure provided is quite complex, featu...</td>\n",
       "    </tr>\n",
       "    <tr>\n",
       "      <th>...</th>\n",
       "      <td>...</td>\n",
       "      <td>...</td>\n",
       "      <td>...</td>\n",
       "      <td>...</td>\n",
       "      <td>...</td>\n",
       "      <td>...</td>\n",
       "      <td>...</td>\n",
       "      <td>...</td>\n",
       "    </tr>\n",
       "    <tr>\n",
       "      <th>102</th>\n",
       "      <td>False</td>\n",
       "      <td>diterpenoid</td>\n",
       "      <td>CHEBI:8046</td>\n",
       "      <td>What is the correct classification for this st...</td>\n",
       "      <td>AgentRunResult(data=Classification(chemical_cl...</td>\n",
       "      <td>\\n        &lt;div style=\"display: flex; flex-dire...</td>\n",
       "      <td>triterpenoid</td>\n",
       "      <td>The structure in the image is a complex molecu...</td>\n",
       "    </tr>\n",
       "    <tr>\n",
       "      <th>103</th>\n",
       "      <td>False</td>\n",
       "      <td>diterpenoid</td>\n",
       "      <td>CHEBI:80196</td>\n",
       "      <td>What is the correct classification for this st...</td>\n",
       "      <td>AgentRunResult(data=Classification(chemical_cl...</td>\n",
       "      <td>\\n        &lt;div style=\"display: flex; flex-dire...</td>\n",
       "      <td>other</td>\n",
       "      <td>The structure in the image is of beta-carotene...</td>\n",
       "    </tr>\n",
       "    <tr>\n",
       "      <th>104</th>\n",
       "      <td>False</td>\n",
       "      <td>diterpenoid</td>\n",
       "      <td>CHEBI:80117</td>\n",
       "      <td>What is the correct classification for this st...</td>\n",
       "      <td>AgentRunResult(data=Classification(chemical_cl...</td>\n",
       "      <td>\\n        &lt;div style=\"display: flex; flex-dire...</td>\n",
       "      <td>triterpenoid</td>\n",
       "      <td>The structure is a large molecule consisting o...</td>\n",
       "    </tr>\n",
       "    <tr>\n",
       "      <th>105</th>\n",
       "      <td>False</td>\n",
       "      <td>diterpenoid</td>\n",
       "      <td>CHEBI:79068</td>\n",
       "      <td>What is the correct classification for this st...</td>\n",
       "      <td>AgentRunResult(data=Classification(chemical_cl...</td>\n",
       "      <td>\\n        &lt;div style=\"display: flex; flex-dire...</td>\n",
       "      <td>other</td>\n",
       "      <td>The structure shown is not a typical terpenoid...</td>\n",
       "    </tr>\n",
       "    <tr>\n",
       "      <th>106</th>\n",
       "      <td>True</td>\n",
       "      <td>diterpenoid</td>\n",
       "      <td>CHEBI:74030</td>\n",
       "      <td>What is the correct classification for this st...</td>\n",
       "      <td>AgentRunResult(data=Classification(chemical_cl...</td>\n",
       "      <td>\\n        &lt;div style=\"display: flex; flex-dire...</td>\n",
       "      <td>diterpenoid</td>\n",
       "      <td>The chemical structure displayed contains four...</td>\n",
       "    </tr>\n",
       "  </tbody>\n",
       "</table>\n",
       "<p>107 rows × 8 columns</p>\n",
       "</div>"
      ]
     },
     "execution_count": 56,
     "metadata": {},
     "output_type": "execute_result"
    }
   ],
   "execution_count": 56
  },
  {
   "metadata": {
    "ExecuteTime": {
     "end_time": "2025-02-28T14:08:55.989913Z",
     "start_time": "2025-02-28T14:08:55.836699Z"
    }
   },
   "cell_type": "code",
   "source": "!mkdir -p output",
   "id": "85ad56c7065ecf96",
   "outputs": [],
   "execution_count": 57
  },
  {
   "metadata": {
    "ExecuteTime": {
     "end_time": "2025-02-28T14:08:56.542427Z",
     "start_time": "2025-02-28T14:08:56.533460Z"
    }
   },
   "cell_type": "code",
   "source": [
    "df[[\n",
    "    \"agrees\",\n",
    "    \"expected\",\n",
    "    \"structure\",\n",
    "    \"img\",\n",
    "    \"llm_classification\",\n",
    "    \"llm_explanation\",\n",
    "]].to_html(\"output/terpenoids.html\", escape=False, render_links=True, index=False)"
   ],
   "id": "5f0cb46c3668597",
   "outputs": [],
   "execution_count": 58
  },
  {
   "metadata": {
    "ExecuteTime": {
     "end_time": "2025-02-28T14:08:57.505535Z",
     "start_time": "2025-02-28T14:08:57.499298Z"
    }
   },
   "cell_type": "code",
   "source": "df.to_csv(\"output/terpenoids.csv\", index=False)\n",
   "id": "901c533a06c1f4e3",
   "outputs": [],
   "execution_count": 59
  },
  {
   "metadata": {
    "ExecuteTime": {
     "end_time": "2025-02-28T21:31:49.667518Z",
     "start_time": "2025-02-28T21:31:49.608471Z"
    }
   },
   "cell_type": "code",
   "source": "df.to_markdown(\"output/terpenoids.md\", index=False, tablefmt=\"github\")\n",
   "id": "8de29409cb62bd31",
   "outputs": [],
   "execution_count": 61
  },
  {
   "metadata": {
    "ExecuteTime": {
     "end_time": "2025-02-28T14:08:58.433213Z",
     "start_time": "2025-02-28T14:08:58.431278Z"
    }
   },
   "cell_type": "code",
   "source": "orig_results = results",
   "id": "b95bf2d023793c07",
   "outputs": [],
   "execution_count": 60
  },
  {
   "metadata": {},
   "cell_type": "code",
   "outputs": [],
   "execution_count": null,
   "source": "",
   "id": "ece8c68e5b2be5d1"
  }
 ],
 "metadata": {
  "kernelspec": {
   "display_name": "Python 3",
   "language": "python",
   "name": "python3"
  },
  "language_info": {
   "codemirror_mode": {
    "name": "ipython",
    "version": 2
   },
   "file_extension": ".py",
   "mimetype": "text/x-python",
   "name": "python",
   "nbconvert_exporter": "python",
   "pygments_lexer": "ipython2",
   "version": "2.7.6"
  }
 },
 "nbformat": 4,
 "nbformat_minor": 5
}
