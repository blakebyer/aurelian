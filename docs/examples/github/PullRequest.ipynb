{
 "cells": [
  {
   "cell_type": "code",
   "id": "initial_id",
   "metadata": {
    "ExecuteTime": {
     "end_time": "2025-03-22T04:30:38.117180Z",
     "start_time": "2025-03-22T04:30:37.720399Z"
    }
   },
   "source": [
    "from subprocess import CalledProcessError\n",
    "\n",
    "from pydantic_ai import RunContext\n",
    "\n",
    "from aurelian.agents.github.github_config import get_config, GitHubDependencies\n",
    "\n",
    "cfg = get_config()"
   ],
   "outputs": [],
   "execution_count": 1
  },
  {
   "cell_type": "code",
   "id": "dfb042575b924b47",
   "metadata": {
    "ExecuteTime": {
     "end_time": "2025-03-22T04:30:38.122023Z",
     "start_time": "2025-03-22T04:30:38.120395Z"
    }
   },
   "source": [
    "cfg.workdir = \"/tmp/aurelian/gh-test\"\n"
   ],
   "outputs": [],
   "execution_count": 2
  },
  {
   "cell_type": "code",
   "id": "5f575aed35da0355",
   "metadata": {
    "ExecuteTime": {
     "end_time": "2025-03-22T04:30:38.297048Z",
     "start_time": "2025-03-22T04:30:38.158630Z"
    }
   },
   "source": [
    "!mkdir -p /tmp/aurelian/gh-test"
   ],
   "outputs": [],
   "execution_count": 3
  },
  {
   "cell_type": "code",
   "id": "6d85d0e08e68ece6",
   "metadata": {
    "ExecuteTime": {
     "end_time": "2025-03-22T04:30:38.305088Z",
     "start_time": "2025-03-22T04:30:38.302360Z"
    }
   },
   "source": [
    "ctx = RunContext[GitHubDependencies](deps=cfg, model=None, usage=None, prompt=None)"
   ],
   "outputs": [],
   "execution_count": 4
  },
  {
   "cell_type": "code",
   "id": "b98e508ea5b913f2",
   "metadata": {
    "ExecuteTime": {
     "end_time": "2025-03-22T04:30:38.313938Z",
     "start_time": "2025-03-22T04:30:38.309607Z"
    }
   },
   "source": [
    "from aurelian.agents.github.github_tools import clone_repository, get_commit_before_pr\n",
    "\n",
    "try:\n",
    "    r = await clone_repository(ctx, \"obophenotype/cell-ontology\")\n",
    "except FileExistsError as e:\n",
    "    print(\"Already cloned\")"
   ],
   "outputs": [
    {
     "name": "stdout",
     "output_type": "stream",
     "text": [
      "Already cloned\n"
     ]
    }
   ],
   "execution_count": 5
  },
  {
   "cell_type": "code",
   "id": "5c2c12db6779016e",
   "metadata": {
    "ExecuteTime": {
     "end_time": "2025-03-22T04:30:38.441988Z",
     "start_time": "2025-03-22T04:30:38.320451Z"
    }
   },
   "source": [
    "!ls /tmp/aurelian/gh-test"
   ],
   "outputs": [
    {
     "name": "stdout",
     "output_type": "stream",
     "text": [
      "\u001B[1m\u001B[36mcell-ontology\u001B[m\u001B[m\r\n"
     ]
    }
   ],
   "execution_count": 6
  },
  {
   "cell_type": "code",
   "id": "32a8d6060d5b2807",
   "metadata": {
    "ExecuteTime": {
     "end_time": "2025-03-22T04:30:38.449662Z",
     "start_time": "2025-03-22T04:30:38.447676Z"
    }
   },
   "source": [
    "cfg.workdir += \"/cell-ontology\""
   ],
   "outputs": [],
   "execution_count": 7
  },
  {
   "cell_type": "code",
   "id": "f418ee7c06249c3c",
   "metadata": {
    "ExecuteTime": {
     "end_time": "2025-03-22T04:30:39.310381Z",
     "start_time": "2025-03-22T04:30:38.454188Z"
    }
   },
   "source": [
    "try:\n",
    "    cmt_id = await get_commit_before_pr(ctx, \"2996\")\n",
    "except CalledProcessError as e:\n",
    "    print(e.stdout)"
   ],
   "outputs": [
    {
     "ename": "JSONDecodeError",
     "evalue": "Expecting value: line 1 column 1 (char 0)",
     "output_type": "error",
     "traceback": [
      "\u001B[31m---------------------------------------------------------------------------\u001B[39m",
      "\u001B[31mJSONDecodeError\u001B[39m                           Traceback (most recent call last)",
      "\u001B[36mCell\u001B[39m\u001B[36m \u001B[39m\u001B[32mIn[8]\u001B[39m\u001B[32m, line 2\u001B[39m\n\u001B[32m      1\u001B[39m \u001B[38;5;28;01mtry\u001B[39;00m:\n\u001B[32m----> \u001B[39m\u001B[32m2\u001B[39m     cmt_id = \u001B[38;5;28;01mawait\u001B[39;00m get_commit_before_pr(ctx, \u001B[33m\"\u001B[39m\u001B[33m2996\u001B[39m\u001B[33m\"\u001B[39m)\n\u001B[32m      3\u001B[39m \u001B[38;5;28;01mexcept\u001B[39;00m CalledProcessError \u001B[38;5;28;01mas\u001B[39;00m e:\n\u001B[32m      4\u001B[39m     \u001B[38;5;28mprint\u001B[39m(e.stdout)\n",
      "\u001B[36mFile \u001B[39m\u001B[32m~/repos/aurelian/src/aurelian/agents/github/github_tools.py:308\u001B[39m, in \u001B[36mget_commit_before_pr\u001B[39m\u001B[34m(ctx, pr_number, repo)\u001B[39m\n\u001B[32m    305\u001B[39m     workdir = workdir.location\n\u001B[32m    307\u001B[39m \u001B[38;5;66;03m# First get PR details to identify the base and head branches\u001B[39;00m\n\u001B[32m--> \u001B[39m\u001B[32m308\u001B[39m pr_details = \u001B[38;5;28;01mawait\u001B[39;00m view_pull_request(ctx, pr_number, repo)\n\u001B[32m    309\u001B[39m base_branch = pr_details[\u001B[33m\"\u001B[39m\u001B[33mbaseRefName\u001B[39m\u001B[33m\"\u001B[39m]\n\u001B[32m    310\u001B[39m head_branch = pr_details[\u001B[33m\"\u001B[39m\u001B[33mheadRefName\u001B[39m\u001B[33m\"\u001B[39m]\n",
      "\u001B[36mFile \u001B[39m\u001B[32m~/repos/aurelian/src/aurelian/agents/github/github_tools.py:153\u001B[39m, in \u001B[36mview_pull_request\u001B[39m\u001B[34m(ctx, pr_number, repo)\u001B[39m\n\u001B[32m    150\u001B[39m     args.extend([\u001B[33m\"\u001B[39m\u001B[33m--repo\u001B[39m\u001B[33m\"\u001B[39m, repo])\n\u001B[32m    152\u001B[39m output = \u001B[38;5;28;01mawait\u001B[39;00m _run_gh_command(args, cwd=workdir)\n\u001B[32m--> \u001B[39m\u001B[32m153\u001B[39m \u001B[38;5;28;01mreturn\u001B[39;00m \u001B[43mjson\u001B[49m\u001B[43m.\u001B[49m\u001B[43mloads\u001B[49m\u001B[43m(\u001B[49m\u001B[43moutput\u001B[49m\u001B[43m)\u001B[49m\n",
      "\u001B[36mFile \u001B[39m\u001B[32m/opt/homebrew/Cellar/python@3.11/3.11.9/Frameworks/Python.framework/Versions/3.11/lib/python3.11/json/__init__.py:346\u001B[39m, in \u001B[36mloads\u001B[39m\u001B[34m(s, cls, object_hook, parse_float, parse_int, parse_constant, object_pairs_hook, **kw)\u001B[39m\n\u001B[32m    341\u001B[39m     s = s.decode(detect_encoding(s), \u001B[33m'\u001B[39m\u001B[33msurrogatepass\u001B[39m\u001B[33m'\u001B[39m)\n\u001B[32m    343\u001B[39m \u001B[38;5;28;01mif\u001B[39;00m (\u001B[38;5;28mcls\u001B[39m \u001B[38;5;129;01mis\u001B[39;00m \u001B[38;5;28;01mNone\u001B[39;00m \u001B[38;5;129;01mand\u001B[39;00m object_hook \u001B[38;5;129;01mis\u001B[39;00m \u001B[38;5;28;01mNone\u001B[39;00m \u001B[38;5;129;01mand\u001B[39;00m\n\u001B[32m    344\u001B[39m         parse_int \u001B[38;5;129;01mis\u001B[39;00m \u001B[38;5;28;01mNone\u001B[39;00m \u001B[38;5;129;01mand\u001B[39;00m parse_float \u001B[38;5;129;01mis\u001B[39;00m \u001B[38;5;28;01mNone\u001B[39;00m \u001B[38;5;129;01mand\u001B[39;00m\n\u001B[32m    345\u001B[39m         parse_constant \u001B[38;5;129;01mis\u001B[39;00m \u001B[38;5;28;01mNone\u001B[39;00m \u001B[38;5;129;01mand\u001B[39;00m object_pairs_hook \u001B[38;5;129;01mis\u001B[39;00m \u001B[38;5;28;01mNone\u001B[39;00m \u001B[38;5;129;01mand\u001B[39;00m \u001B[38;5;129;01mnot\u001B[39;00m kw):\n\u001B[32m--> \u001B[39m\u001B[32m346\u001B[39m     \u001B[38;5;28;01mreturn\u001B[39;00m \u001B[43m_default_decoder\u001B[49m\u001B[43m.\u001B[49m\u001B[43mdecode\u001B[49m\u001B[43m(\u001B[49m\u001B[43ms\u001B[49m\u001B[43m)\u001B[49m\n\u001B[32m    347\u001B[39m \u001B[38;5;28;01mif\u001B[39;00m \u001B[38;5;28mcls\u001B[39m \u001B[38;5;129;01mis\u001B[39;00m \u001B[38;5;28;01mNone\u001B[39;00m:\n\u001B[32m    348\u001B[39m     \u001B[38;5;28mcls\u001B[39m = JSONDecoder\n",
      "\u001B[36mFile \u001B[39m\u001B[32m/opt/homebrew/Cellar/python@3.11/3.11.9/Frameworks/Python.framework/Versions/3.11/lib/python3.11/json/decoder.py:337\u001B[39m, in \u001B[36mJSONDecoder.decode\u001B[39m\u001B[34m(self, s, _w)\u001B[39m\n\u001B[32m    332\u001B[39m \u001B[38;5;28;01mdef\u001B[39;00m\u001B[38;5;250m \u001B[39m\u001B[34mdecode\u001B[39m(\u001B[38;5;28mself\u001B[39m, s, _w=WHITESPACE.match):\n\u001B[32m    333\u001B[39m \u001B[38;5;250m    \u001B[39m\u001B[33;03m\"\"\"Return the Python representation of ``s`` (a ``str`` instance\u001B[39;00m\n\u001B[32m    334\u001B[39m \u001B[33;03m    containing a JSON document).\u001B[39;00m\n\u001B[32m    335\u001B[39m \n\u001B[32m    336\u001B[39m \u001B[33;03m    \"\"\"\u001B[39;00m\n\u001B[32m--> \u001B[39m\u001B[32m337\u001B[39m     obj, end = \u001B[38;5;28;43mself\u001B[39;49m\u001B[43m.\u001B[49m\u001B[43mraw_decode\u001B[49m\u001B[43m(\u001B[49m\u001B[43ms\u001B[49m\u001B[43m,\u001B[49m\u001B[43m \u001B[49m\u001B[43midx\u001B[49m\u001B[43m=\u001B[49m\u001B[43m_w\u001B[49m\u001B[43m(\u001B[49m\u001B[43ms\u001B[49m\u001B[43m,\u001B[49m\u001B[43m \u001B[49m\u001B[32;43m0\u001B[39;49m\u001B[43m)\u001B[49m\u001B[43m.\u001B[49m\u001B[43mend\u001B[49m\u001B[43m(\u001B[49m\u001B[43m)\u001B[49m\u001B[43m)\u001B[49m\n\u001B[32m    338\u001B[39m     end = _w(s, end).end()\n\u001B[32m    339\u001B[39m     \u001B[38;5;28;01mif\u001B[39;00m end != \u001B[38;5;28mlen\u001B[39m(s):\n",
      "\u001B[36mFile \u001B[39m\u001B[32m/opt/homebrew/Cellar/python@3.11/3.11.9/Frameworks/Python.framework/Versions/3.11/lib/python3.11/json/decoder.py:355\u001B[39m, in \u001B[36mJSONDecoder.raw_decode\u001B[39m\u001B[34m(self, s, idx)\u001B[39m\n\u001B[32m    353\u001B[39m     obj, end = \u001B[38;5;28mself\u001B[39m.scan_once(s, idx)\n\u001B[32m    354\u001B[39m \u001B[38;5;28;01mexcept\u001B[39;00m \u001B[38;5;167;01mStopIteration\u001B[39;00m \u001B[38;5;28;01mas\u001B[39;00m err:\n\u001B[32m--> \u001B[39m\u001B[32m355\u001B[39m     \u001B[38;5;28;01mraise\u001B[39;00m JSONDecodeError(\u001B[33m\"\u001B[39m\u001B[33mExpecting value\u001B[39m\u001B[33m\"\u001B[39m, s, err.value) \u001B[38;5;28;01mfrom\u001B[39;00m\u001B[38;5;250m \u001B[39m\u001B[38;5;28;01mNone\u001B[39;00m\n\u001B[32m    356\u001B[39m \u001B[38;5;28;01mreturn\u001B[39;00m obj, end\n",
      "\u001B[31mJSONDecodeError\u001B[39m: Expecting value: line 1 column 1 (char 0)"
     ]
    }
   ],
   "execution_count": 8
  },
  {
   "cell_type": "code",
   "id": "9c23cab6ce48379",
   "metadata": {
    "ExecuteTime": {
     "end_time": "2025-03-22T04:30:41.996629Z",
     "start_time": "2025-03-22T04:30:41.369460Z"
    }
   },
   "source": [
    "from aurelian.agents.github.github_tools import view_issue\n",
    "\n",
    "info = await view_issue(ctx, \"2995\")"
   ],
   "outputs": [],
   "execution_count": 9
  },
  {
   "metadata": {
    "ExecuteTime": {
     "end_time": "2025-03-22T04:30:54.097864Z",
     "start_time": "2025-03-22T04:30:54.095625Z"
    }
   },
   "cell_type": "code",
   "source": "print(info)",
   "id": "2663e18d415529fa",
   "outputs": [
    {
     "name": "stdout",
     "output_type": "stream",
     "text": [
      "\u001B[1;38m{\u001B[m\n",
      "  \u001B[1;34m\"assignees\"\u001B[m\u001B[1;38m:\u001B[m \u001B[1;38m[\u001B[m\n",
      "    \u001B[1;38m{\u001B[m\n",
      "      \u001B[1;34m\"id\"\u001B[m\u001B[1;38m:\u001B[m \u001B[32m\"MDQ6VXNlcjExMjgzOQ==\"\u001B[m\u001B[1;38m,\u001B[m\n",
      "      \u001B[1;34m\"login\"\u001B[m\u001B[1;38m:\u001B[m \u001B[32m\"dosumis\"\u001B[m\u001B[1;38m,\u001B[m\n",
      "      \u001B[1;34m\"name\"\u001B[m\u001B[1;38m:\u001B[m \u001B[32m\"David Osumi-Sutherland\"\u001B[m\n",
      "    \u001B[1;38m}\u001B[m\n",
      "  \u001B[1;38m]\u001B[m\u001B[1;38m,\u001B[m\n",
      "  \u001B[1;34m\"author\"\u001B[m\u001B[1;38m:\u001B[m \u001B[1;38m{\u001B[m\n",
      "    \u001B[1;34m\"id\"\u001B[m\u001B[1;38m:\u001B[m \u001B[32m\"MDQ6VXNlcjExMjgzOQ==\"\u001B[m\u001B[1;38m,\u001B[m\n",
      "    \u001B[1;34m\"is_bot\"\u001B[m\u001B[1;38m:\u001B[m \u001B[33mfalse\u001B[m\u001B[1;38m,\u001B[m\n",
      "    \u001B[1;34m\"login\"\u001B[m\u001B[1;38m:\u001B[m \u001B[32m\"dosumis\"\u001B[m\u001B[1;38m,\u001B[m\n",
      "    \u001B[1;34m\"name\"\u001B[m\u001B[1;38m:\u001B[m \u001B[32m\"David Osumi-Sutherland\"\u001B[m\n",
      "  \u001B[1;38m}\u001B[m\u001B[1;38m,\u001B[m\n",
      "  \u001B[1;34m\"body\"\u001B[m\u001B[1;38m:\u001B[m \u001B[32m\"Please check that the term does not already exist by using the ontology search tool OLS:\\nhttps://www.ebi.ac.uk/ols4/ontologies/cl\\n\\n\\n**Preferred term label**\\n\\ncircumventricular organ capillary endothelial cell\\n\\n**Synonyms** (add reference(s), please)\\n\\n\\n**Definition** (free text, with reference(s), please. PubMed ID format is PMID:XXXXXX)\\n\\ndatabase_cross_reference \\\"A capillary endothelial cell that is part of the circumventricular organs (CVOs), characterized by fenestrations that facilitate selective permeability to molecules, distinguishing it from the non-fenestrated endothelial cells of the blood-brain barrier. These cells are integral to the unique vascular structure of CVOs, which lack a traditional blood-brain barrier. They enable bidirectional exchange of polar molecules between blood and neural tissue, supporting neuroendocrine signaling, fluid balance, and immune responses.  They are marked by expression of PLVAP, a component of the fenestral diaphragm, in both rodents and humans.\\\"\\n\\n**Parent cell type term** (check the hierarchy here https://www.ebi.ac.uk/ols4/ontologies/cl)\\n\\n'capillary endothelial cell' and ('part of' some 'circumventricular organ')\\n\\n**Anatomical structure where the cell type is found** (check Uberon for anatomical structures: https://www.ebi.ac.uk/ols4/ontologies/uberon)\\n\\n**Your ORCID**\\n\\n\\n**Additional notes or concerns**\\n\\n\\n\"\u001B[m\u001B[1;38m,\u001B[m\n",
      "  \u001B[1;34m\"closedAt\"\u001B[m\u001B[1;38m:\u001B[m \u001B[32m\"2025-03-19T12:05:27Z\"\u001B[m\u001B[1;38m,\u001B[m\n",
      "  \u001B[1;34m\"comments\"\u001B[m\u001B[1;38m:\u001B[m \u001B[1;38m[\u001B[m\u001B[1;38m]\u001B[m\u001B[1;38m,\u001B[m\n",
      "  \u001B[1;34m\"createdAt\"\u001B[m\u001B[1;38m:\u001B[m \u001B[32m\"2025-03-14T13:23:13Z\"\u001B[m\u001B[1;38m,\u001B[m\n",
      "  \u001B[1;34m\"labels\"\u001B[m\u001B[1;38m:\u001B[m \u001B[1;38m[\u001B[m\n",
      "    \u001B[1;38m{\u001B[m\n",
      "      \u001B[1;34m\"id\"\u001B[m\u001B[1;38m:\u001B[m \u001B[32m\"MDU6TGFiZWwyMjU0MDk1MTE=\"\u001B[m\u001B[1;38m,\u001B[m\n",
      "      \u001B[1;34m\"name\"\u001B[m\u001B[1;38m:\u001B[m \u001B[32m\"new term request\"\u001B[m\u001B[1;38m,\u001B[m\n",
      "      \u001B[1;34m\"description\"\u001B[m\u001B[1;38m:\u001B[m \u001B[32m\"\"\u001B[m\u001B[1;38m,\u001B[m\n",
      "      \u001B[1;34m\"color\"\u001B[m\u001B[1;38m:\u001B[m \u001B[32m\"D61C38\"\u001B[m\n",
      "    \u001B[1;38m}\u001B[m\n",
      "  \u001B[1;38m]\u001B[m\u001B[1;38m,\u001B[m\n",
      "  \u001B[1;34m\"number\"\u001B[m\u001B[1;38m:\u001B[m 2995\u001B[1;38m,\u001B[m\n",
      "  \u001B[1;34m\"state\"\u001B[m\u001B[1;38m:\u001B[m \u001B[32m\"CLOSED\"\u001B[m\u001B[1;38m,\u001B[m\n",
      "  \u001B[1;34m\"title\"\u001B[m\u001B[1;38m:\u001B[m \u001B[32m\"[NTR] circumventricular organ capillary endothelial cell\"\u001B[m\u001B[1;38m,\u001B[m\n",
      "  \u001B[1;34m\"url\"\u001B[m\u001B[1;38m:\u001B[m \u001B[32m\"https://github.com/obophenotype/cell-ontology/issues/2995\"\u001B[m\n",
      "\u001B[1;38m}\u001B[m\n"
     ]
    }
   ],
   "execution_count": 11
  },
  {
   "metadata": {},
   "cell_type": "code",
   "outputs": [],
   "execution_count": null,
   "source": "",
   "id": "f56164994fdc52c9"
  }
 ],
 "metadata": {
  "kernelspec": {
   "display_name": "Python 3 (ipykernel)",
   "language": "python",
   "name": "python3"
  },
  "language_info": {
   "codemirror_mode": {
    "name": "ipython",
    "version": 3
   },
   "file_extension": ".py",
   "mimetype": "text/x-python",
   "name": "python",
   "nbconvert_exporter": "python",
   "pygments_lexer": "ipython3",
   "version": "3.11.9"
  }
 },
 "nbformat": 4,
 "nbformat_minor": 5
}
